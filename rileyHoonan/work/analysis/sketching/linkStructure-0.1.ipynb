{
 "cells": [
  {
   "cell_type": "code",
   "execution_count": 85,
   "metadata": {
    "collapsed": false
   },
   "outputs": [
    {
     "name": "stdout",
     "output_type": "stream",
     "text": [
      "{'mapsFrom': ['May_19', '1893_in_literature', 'Mateiu_Caragiale', 'Benjamin_Fondane', 'Urmuz', 'Geo_Bogza', 'Sfarm%C4%83-Piatr%C4%83', 'Felix_Aderca', 'B%C4%83beni', 'Alexandru_Robot', 'N._D._Cocea', 'Symbolist_movement_in_Romania', 'Portal_talk:Journalism/Features', 'Horia_(name)', 'Sesto_Pals', 'Stephan_Roll'], 'wikiData': 'https://www.wikidata.org/wiki/Q722231', 'mapsTo': ['File:H._Bonciu,_poet_-_prozator.JPG', 'Ia%C8%99i', 'Bucharest', 'Romania', 'Bildungsroman', 'Erotic_literature', 'Fantasy_literature', 'Parody', 'Lyric_poetry', 'Prose_poetry', 'Sonnet', 'Avant-garde', 'Decadent_movement', 'Expressionism', 'Naturalism_(literature)', 'Neoromanticism', 'Surrealism', 'Symbolism_(arts)', 'Modernist_literature', 'Romanian_literature', 'German_literature', 'Autofiction', 'Pornography', 'Fascism', 'Communist_Romania', 'Interwar', 'Postmodern_literature', 'Humboldt_University_of_Berlin', 'Berlin', 'German_Empire', 'Austria-Hungary', 'Ovid_Crohm%C4%83lniceanu', 'Jugendstil', 'Symbolist_movement_in_Romania', 'World_War_I', 'Central_Powers', 'Romanian_Land_Forces', 'Vienna', 'Hungary', 'Endre_Ady', 'Treaty_of_Bucharest_(1918)', 'Romania_during_World_War_I', 'Peter_Altenberg', 'A._de_Herz', 'Tristan_Tzara', 'Dada', 'Anton_Wildgans', 'Via%C8%9Ba_Rom%C3%A2neasc%C4%83', 'Azi_(Romanian_newspaper)', 'Isac_Ludo', 'Pen_name', 'Alter_ego', 'Moldavian_wine', 'Miroslava,_Ia%C8%99i', 'Oenology', 'Constantin_T%C4%83nase', 'Balote%C8%99ti', 'Gambling', 'Bohemianism', 'P%C4%83storel_Teodoreanu', 'Romanian_leu', 'Tyrol_(state)', 'Alfons_Walde', 'Neo-romanticism', 'German_culture', 'Richard_Beer-Hofmann', 'Klabund', 'Erich_M%C3%BChsam', 'Rainer_Maria_Rilke', 'Richard_von_Schaukal', 'Carl_Spitteler', 'France', 'Charles_Baudelaire', 'Ovidiu_Papadima', 'G%C3%A2ndirea', 'Tudor_Arghezi', 'Vienna_Secession', 'Egon_Schiele', 'Far_right', 'Nicolae_Iorga', 'Geo_Bogza', 'Mihail_Celarianu', 'Mircea_Eliade', 'N._D._Cocea', 'Antisemitism', 'Romanian_Writers%27_Society', 'Zaharia_Stancu', '%C8%98erban_Cioculescu', 'Constantin_Angelescu', 'Ministry_of_Education,_Research,_Youth_and_Sport_(Romania)', 'Sa%C8%99a_Pan%C4%83', 'Romanian_Academy', 'Ioan_Alexandru_Br%C4%83tescu-Voine%C8%99ti', 'Eugen_Lovinescu', 'Didacticism', 'Liviu_Rebreanu', 'Nicolae_M._Condiescu', 'Sfarm%C4%83-Piatr%C4%83', 'Anti-clericalism', 'Ski_suit', 'Anton_Holban', 'World_War_II', 'Holocaust_in_Romania', 'Conduc%C4%83tor', 'Ion_Antonescu', 'George_C%C4%83linescu', 'Talmud', 'Cancer', 'Greater_Romania', 'Paul_Cernat', 'Francs-tireurs', 'Oneirology', 'Franz_Werfel', 'Transcendence_(philosophy)', 'Impressionist_literature', 'Eclecticism', 'Unu', 'Cerebrospinal_fluid', 'Ovidiu_Cotru%C8%99', 'Lucian_Blaga', 'Authenticity_in_art', 'Max_Blecher', 'Mihail_Sebastian', 'Andr%C3%A9_Gide', 'Absurdism', 'Pott_disease', 'Priapism', 'Sentimentality', 'Rom%C3%A2nia_Literar%C4%83', 'Xenophobia', 'Romanian_language', 'Nicolae_Manolescu', 'Rhyme_scheme', 'Diurnality', 'Austrian_poetry', 'Sadomasochism', 'Christian_Morgenstern', 'Hanns_Heinz_Ewers', 'Emil_Botta', 'Stereotypes_of_Jews', 'Ashkenazi_Jews', 'Red_hair', 'File:Trcka_-_Schiele_neben_Entwurf_eines_unausgef%C3%BChrten_Freskos,_1914.jpg', 'Felix_Aderca', 'Pompiliu_Constantinescu', 'Story_within_a_story', 'Wunderkammer', 'Edvard_Munch', 'The_Scream', 'Undead', 'Literary_topos', 'Oedipus_complex', 'Bankruptcy', 'World_revolution', 'Bolshevik', 'Universal_language', 'Brothel', 'Out-of-body_experience', 'Anti-hero', 'Gout', 'Driller_(oil)', 'Hugo_von_Hofmannsthal', 'Arthur_Schnitzler', 'Stefan_Zweig', 'M%C3%A9nage_%C3%A0_trois', 'Adev%C4%83rul', 'Louis-Ferdinand_C%C3%A9line', 'Axel_Munthe', 'Journey_to_the_End_of_the_Night', 'Weimar_Republic', 'New_Objectivity', 'Erich_K%C3%A4stner', 'Otto_Dix', 'Urmuz', 'Prequel', 'Intertextuality', 'Laundress', 'Reification_(fallacy)', 'Depression_(mood)', 'Bucolic', 'Antifeminism', 'Insect_collecting', 'University_of_Bucharest', 'Les_Fleurs_du_mal', 'Geo_Dumitrescu', 'Mircea_Zaciu', 'Censorship_in_Communist_Romania', 'Mircea_C%C4%83rt%C4%83rescu', 'Orbitor', 'Romanian_Revolution_of_1989', 'Craiova', 'Observator_Cultural', 'Gheorghe_Cr%C4%83ciun', 'Writers%27_Union_of_Romania', 'Polirom', 'Gib_Mih%C4%83escu', 'Contemporanul', 'Vatra_(Romanian_magazine)', 'Babe%C8%99-Bolyai_University', 'Dilema_Veche', 'Convorbiri_Literare', 'Z._Ornea', 'Andrei_Oi%C8%99teanu', 'University_of_Nebraska_Press', 'Cuv%C3%A2ntul_(literary_magazine)', 'Revista_22', 'Editura_Minerva', 'OCLC', 'West_University_of_Timi%C8%99oara', 'Dacia_Literar%C4%83', 'Editura_Funda%C8%9Biei_Culturale_Rom%C3%A2ne', 'Federation_of_Jewish_Communities_of_Romania', 'Elie_Wiesel_National_Institute_for_Studying_the_Holocaust_in_Romania'], 'metaData': {'country of citizenship': ['Romania'], 'occupation': ['winegrower', 'linguist', 'poet', 'writer'], 'languages spoken, written or signed': ['Romanian'], 'date of birth': ['19 May 1893Gregorian'], 'date of death': ['27 April 1950'], 'instance of': ['human'], 'place of birth': ['Iași'], 'place of death': ['Bucharest'], 'given name': ['H.'], 'manner of death': ['natural causes'], 'Commons category': ['H. Bonciu'], 'sex or gender': ['male'], 'image': ['H. Bonciu, poet - prozator.JPG']}, 'url': 'H._Bonciu'}\n"
     ]
    }
   ],
   "source": [
    "import json\n",
    "from pprint import pprint\n",
    "\n",
    "with open('data/cleaned-mapsFrom.json') as data_file:\n",
    "    mapsTo_data = json.load(data_file)\n",
    "    \n",
    "# pprint(mapsTo_data)\n",
    "\n",
    "#structure notes\n",
    "# url\n",
    "# metaData\n",
    "\n",
    "print(mapsTo_data[8])"
   ]
  },
  {
   "cell_type": "code",
   "execution_count": 117,
   "metadata": {
    "collapsed": false
   },
   "outputs": [
    {
     "name": "stdout",
     "output_type": "stream",
     "text": [
      "George_Antheil\n"
     ]
    }
   ],
   "source": [
    "print(mapsTo_data[467]['url'])"
   ]
  },
  {
   "cell_type": "code",
   "execution_count": 118,
   "metadata": {
    "collapsed": false
   },
   "outputs": [
    {
     "name": "stdout",
     "output_type": "stream",
     "text": [
      "{'Spotify artist ID': ['00iJnnUu476m1HX16e3por'], 'described by source': ['UbuWeb'], 'instrument': ['piano'], 'DNF person ID': ['67010'], 'date of birth': ['8 July 1900Gregorian', '9 July 1900Gregorian'], 'languages spoken, written or signed': ['English'], 'date of death': ['12 February 1959'], 'Discogs artist ID': ['79901'], 'instance of': ['human'], 'award received': ['Guggenheim Fellowship', 'EFF Pioneer Award', 'National Inventors Hall of Fame'], 'place of birth': ['Trenton'], 'place of death': ['New York City'], 'notable work': ['Tom Sawyer (Antheil)', 'Q2265816', 'Q627959'], 'AllMovie artist ID': ['p79754'], 'Great Russian Encyclopedia Online ID': ['695895'], 'Perlentaucher ID': ['george-antheil'], 'manner of death': ['natural causes'], 'country of citizenship': ['United States of America'], 'student of': ['Nadia Boulanger'], 'occupation': ['composer', 'pianist', 'writer', 'film score composer'], 'Internet Broadway Database person ID': ['11315'], 'BVMC person ID': ['43326'], 'National Inventors Hall of Fame ID': ['489'], 'KDG Komponisten der Gegenwart': ['17000000014'], 'Chancro': ['myocardial infarction'], 'AlloCiné person ID': ['50094'], 'MusicBrainz artist ID': ['5a0e065d-67ae-402b-97a3-19372b1b0c1d'], 'Find a Grave grave ID': ['12841'], 'AllMusic artist ID': ['mn0001475367'], 'given name': ['George'], 'genre': ['opera', 'symphony'], 'IMSLP ID': ['Category:Antheil,_George'], 'sex or gender': ['male'], 'image': ['George Antheil.jpg']}\n"
     ]
    }
   ],
   "source": [
    "print(mapsTo_data[467]['metaData']) "
   ]
  },
  {
   "cell_type": "code",
   "execution_count": 104,
   "metadata": {
    "collapsed": false
   },
   "outputs": [
    {
     "name": "stdout",
     "output_type": "stream",
     "text": [
      "https://www.wikidata.org/wiki/Q971949\n"
     ]
    }
   ],
   "source": [
    "print(mapsTo_data[335]['wikiData']) "
   ]
  },
  {
   "cell_type": "code",
   "execution_count": null,
   "metadata": {
    "collapsed": true
   },
   "outputs": [],
   "source": []
  }
 ],
 "metadata": {
  "anaconda-cloud": {},
  "kernelspec": {
   "display_name": "Python [default]",
   "language": "python",
   "name": "python3"
  },
  "language_info": {
   "codemirror_mode": {
    "name": "ipython",
    "version": 3
   },
   "file_extension": ".py",
   "mimetype": "text/x-python",
   "name": "python",
   "nbconvert_exporter": "python",
   "pygments_lexer": "ipython3",
   "version": "3.5.2"
  }
 },
 "nbformat": 4,
 "nbformat_minor": 1
}
