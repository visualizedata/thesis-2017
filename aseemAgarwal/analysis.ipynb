{
 "cells": [
  {
   "cell_type": "code",
   "execution_count": 1,
   "metadata": {
    "collapsed": false
   },
   "outputs": [],
   "source": [
    "import pymongo\n",
    "import numpy as np\n",
    "import pandas as pd\n",
    "import matplotlib.pyplot as plt\n",
    "from pymongo import MongoClient"
   ]
  },
  {
   "cell_type": "code",
   "execution_count": 2,
   "metadata": {
    "collapsed": true
   },
   "outputs": [],
   "source": [
    "client = MongoClient('localhost', 27017)\n",
    "db = client[\"delhi\"]"
   ]
  },
  {
   "cell_type": "code",
   "execution_count": 77,
   "metadata": {
    "collapsed": false
   },
   "outputs": [],
   "source": [
    "tiles = list(db[\"hex-tiles2\"].find())"
   ]
  },
  {
   "cell_type": "code",
   "execution_count": 3,
   "metadata": {
    "collapsed": false
   },
   "outputs": [],
   "source": [
    "dtimes = list(db[\"drivingTime\"].find())"
   ]
  },
  {
   "cell_type": "code",
   "execution_count": 4,
   "metadata": {
    "collapsed": false
   },
   "outputs": [
    {
     "data": {
      "text/plain": [
       "1739618"
      ]
     },
     "execution_count": 4,
     "metadata": {},
     "output_type": "execute_result"
    }
   ],
   "source": [
    "len(dtimes)"
   ]
  },
  {
   "cell_type": "markdown",
   "metadata": {},
   "source": [
    "## Finding the distribution of road density "
   ]
  },
  {
   "cell_type": "code",
   "execution_count": 79,
   "metadata": {
    "collapsed": true
   },
   "outputs": [],
   "source": [
    "hex_tiles = pd.DataFrame.from_dict(tiles)"
   ]
  },
  {
   "cell_type": "code",
   "execution_count": 80,
   "metadata": {
    "collapsed": false
   },
   "outputs": [
    {
     "data": {
      "text/plain": [
       "Index(['_id', 'geometry', 'properties', 'type'], dtype='object')"
      ]
     },
     "execution_count": 80,
     "metadata": {},
     "output_type": "execute_result"
    }
   ],
   "source": [
    "hex_tiles.columns"
   ]
  },
  {
   "cell_type": "markdown",
   "metadata": {},
   "source": [
    "Looking to find what is the lower quartile which I can ignore"
   ]
  },
  {
   "cell_type": "code",
   "execution_count": 58,
   "metadata": {
    "collapsed": false
   },
   "outputs": [],
   "source": [
    "df = pd.DataFrame([],columns=[\"count\"])\n",
    "for tile in tiles:\n",
    "    if 'roadCount' in tile[\"properties\"]:\n",
    "        df = df.append(pd.DataFrame([tile[\"properties\"][\"roadCount\"]],columns=[\"count\"]))"
   ]
  },
  {
   "cell_type": "code",
   "execution_count": 92,
   "metadata": {
    "collapsed": false
   },
   "outputs": [
    {
     "data": {
      "text/html": [
       "<div>\n",
       "<table border=\"1\" class=\"dataframe\">\n",
       "  <thead>\n",
       "    <tr style=\"text-align: right;\">\n",
       "      <th></th>\n",
       "      <th>count</th>\n",
       "    </tr>\n",
       "  </thead>\n",
       "  <tbody>\n",
       "    <tr>\n",
       "      <th>0.25</th>\n",
       "      <td>39.0</td>\n",
       "    </tr>\n",
       "    <tr>\n",
       "      <th>0.50</th>\n",
       "      <td>96.0</td>\n",
       "    </tr>\n",
       "    <tr>\n",
       "      <th>0.75</th>\n",
       "      <td>208.5</td>\n",
       "    </tr>\n",
       "    <tr>\n",
       "      <th>0.90</th>\n",
       "      <td>336.6</td>\n",
       "    </tr>\n",
       "  </tbody>\n",
       "</table>\n",
       "</div>"
      ],
      "text/plain": [
       "      count\n",
       "0.25  39.0 \n",
       "0.50  96.0 \n",
       "0.75  208.5\n",
       "0.90  336.6"
      ]
     },
     "execution_count": 92,
     "metadata": {},
     "output_type": "execute_result"
    }
   ],
   "source": [
    "df.quantile([0.25,0.5,0.75,.9])"
   ]
  },
  {
   "cell_type": "code",
   "execution_count": 90,
   "metadata": {
    "collapsed": false
   },
   "outputs": [
    {
     "ename": "TypeError",
     "evalue": "scatter() missing 2 required positional arguments: 'x' and 'y'",
     "output_type": "error",
     "traceback": [
      "\u001b[0;31m---------------------------------------------------------------------------\u001b[0m",
      "\u001b[0;31mTypeError\u001b[0m                                 Traceback (most recent call last)",
      "\u001b[0;32m<ipython-input-90-87f61cb1750e>\u001b[0m in \u001b[0;36m<module>\u001b[0;34m()\u001b[0m\n\u001b[0;32m----> 1\u001b[0;31m \u001b[0mdf\u001b[0m\u001b[0;34m.\u001b[0m\u001b[0mplot\u001b[0m\u001b[0;34m.\u001b[0m\u001b[0mscatter\u001b[0m\u001b[0;34m(\u001b[0m\u001b[0;34m)\u001b[0m\u001b[0;34m\u001b[0m\u001b[0m\n\u001b[0m\u001b[1;32m      2\u001b[0m \u001b[0mplt\u001b[0m\u001b[0;34m.\u001b[0m\u001b[0mshow\u001b[0m\u001b[0;34m(\u001b[0m\u001b[0;34m)\u001b[0m\u001b[0;34m\u001b[0m\u001b[0m\n",
      "\u001b[0;31mTypeError\u001b[0m: scatter() missing 2 required positional arguments: 'x' and 'y'"
     ]
    }
   ],
   "source": [
    "df.plot.scatter()\n",
    "plt.show()"
   ]
  },
  {
   "cell_type": "code",
   "execution_count": 145,
   "metadata": {
    "collapsed": false
   },
   "outputs": [
    {
     "data": {
      "text/plain": [
       "(493, 1)"
      ]
     },
     "execution_count": 145,
     "metadata": {},
     "output_type": "execute_result"
    }
   ],
   "source": [
    "df[df[\"count\"]>=7].shape"
   ]
  },
  {
   "cell_type": "markdown",
   "metadata": {},
   "source": [
    "## Finding the population travelling to different distances "
   ]
  },
  {
   "cell_type": "markdown",
   "metadata": {},
   "source": [
    "Looking to find the quartile which I can ignore"
   ]
  },
  {
   "cell_type": "code",
   "execution_count": 4,
   "metadata": {
    "collapsed": false
   },
   "outputs": [],
   "source": [
    "trans = pd.read_excel(\"data/mode_of_transport_india.xls\")"
   ]
  },
  {
   "cell_type": "code",
   "execution_count": 27,
   "metadata": {
    "collapsed": false
   },
   "outputs": [
    {
     "data": {
      "text/html": [
       "<div>\n",
       "<table border=\"1\" class=\"dataframe\">\n",
       "  <thead>\n",
       "    <tr style=\"text-align: right;\">\n",
       "      <th></th>\n",
       "      <th></th>\n",
       "      <th>B-28  'OTHER WORKERS'  BY DISTANCE FROM RESIDENCE TO PLACE OF WORK AND MODE OF TRAVEL TO PLACE OF WORK</th>\n",
       "      <th>Unnamed: 1</th>\n",
       "      <th>Unnamed: 2</th>\n",
       "      <th>Unnamed: 3</th>\n",
       "      <th>Unnamed: 4</th>\n",
       "      <th>Unnamed: 5</th>\n",
       "      <th>Unnamed: 6</th>\n",
       "      <th>Unnamed: 7</th>\n",
       "      <th>Unnamed: 8</th>\n",
       "      <th>Unnamed: 9</th>\n",
       "      <th>...</th>\n",
       "      <th>Unnamed: 21</th>\n",
       "      <th>Unnamed: 22</th>\n",
       "      <th>Unnamed: 23</th>\n",
       "      <th>Unnamed: 24</th>\n",
       "      <th>Unnamed: 25</th>\n",
       "      <th>Unnamed: 26</th>\n",
       "      <th>Unnamed: 27</th>\n",
       "      <th>Unnamed: 28</th>\n",
       "      <th>Unnamed: 29</th>\n",
       "      <th>Unnamed: 30</th>\n",
       "    </tr>\n",
       "  </thead>\n",
       "  <tbody>\n",
       "    <tr>\n",
       "      <th>Total</th>\n",
       "      <th>NCT OF DELHI</th>\n",
       "      <td>All Modes</td>\n",
       "      <td>5332324</td>\n",
       "      <td>4550458</td>\n",
       "      <td>781866</td>\n",
       "      <td>843162</td>\n",
       "      <td>670490</td>\n",
       "      <td>172672</td>\n",
       "      <td>849934</td>\n",
       "      <td>718690</td>\n",
       "      <td>131244</td>\n",
       "      <td>...</td>\n",
       "      <td>44629</td>\n",
       "      <td>161097</td>\n",
       "      <td>139728</td>\n",
       "      <td>21369</td>\n",
       "      <td>40550</td>\n",
       "      <td>35914</td>\n",
       "      <td>4636</td>\n",
       "      <td>37133</td>\n",
       "      <td>32027</td>\n",
       "      <td>5106</td>\n",
       "    </tr>\n",
       "  </tbody>\n",
       "</table>\n",
       "<p>1 rows × 31 columns</p>\n",
       "</div>"
      ],
      "text/plain": [
       "                   B-28  'OTHER WORKERS'  BY DISTANCE FROM RESIDENCE TO PLACE OF WORK AND MODE OF TRAVEL TO PLACE OF WORK  \\\n",
       "Total NCT OF DELHI  All Modes                                                                                               \n",
       "\n",
       "                   Unnamed: 1  \\\n",
       "Total NCT OF DELHI  5332324     \n",
       "\n",
       "                   Unnamed: 2  \\\n",
       "Total NCT OF DELHI  4550458     \n",
       "\n",
       "                   Unnamed: 3  \\\n",
       "Total NCT OF DELHI  781866      \n",
       "\n",
       "                   Unnamed: 4  \\\n",
       "Total NCT OF DELHI  843162      \n",
       "\n",
       "                   Unnamed: 5  \\\n",
       "Total NCT OF DELHI  670490      \n",
       "\n",
       "                   Unnamed: 6  \\\n",
       "Total NCT OF DELHI  172672      \n",
       "\n",
       "                   Unnamed: 7  \\\n",
       "Total NCT OF DELHI  849934      \n",
       "\n",
       "                   Unnamed: 8  \\\n",
       "Total NCT OF DELHI  718690      \n",
       "\n",
       "                   Unnamed: 9  \\\n",
       "Total NCT OF DELHI  131244      \n",
       "\n",
       "                       ...      \\\n",
       "Total NCT OF DELHI     ...       \n",
       "\n",
       "                   Unnamed: 21  \\\n",
       "Total NCT OF DELHI  44629        \n",
       "\n",
       "                   Unnamed: 22  \\\n",
       "Total NCT OF DELHI  161097       \n",
       "\n",
       "                   Unnamed: 23  \\\n",
       "Total NCT OF DELHI  139728       \n",
       "\n",
       "                   Unnamed: 24  \\\n",
       "Total NCT OF DELHI  21369        \n",
       "\n",
       "                   Unnamed: 25  \\\n",
       "Total NCT OF DELHI  40550        \n",
       "\n",
       "                   Unnamed: 26  \\\n",
       "Total NCT OF DELHI  35914        \n",
       "\n",
       "                   Unnamed: 27  \\\n",
       "Total NCT OF DELHI  4636         \n",
       "\n",
       "                   Unnamed: 28  \\\n",
       "Total NCT OF DELHI  37133        \n",
       "\n",
       "                   Unnamed: 29  \\\n",
       "Total NCT OF DELHI  32027        \n",
       "\n",
       "                   Unnamed: 30  \n",
       "Total NCT OF DELHI  5106        \n",
       "\n",
       "[1 rows x 31 columns]"
      ]
     },
     "execution_count": 27,
     "metadata": {},
     "output_type": "execute_result"
    }
   ],
   "source": [
    "pd.options.display.max_colwidth=-1\n",
    "trans[236:237]"
   ]
  },
  {
   "cell_type": "code",
   "execution_count": 36,
   "metadata": {
    "collapsed": false
   },
   "outputs": [
    {
     "data": {
      "text/html": [
       "<div>\n",
       "<table border=\"1\" class=\"dataframe\">\n",
       "  <thead>\n",
       "    <tr style=\"text-align: right;\">\n",
       "      <th></th>\n",
       "      <th>0-1</th>\n",
       "      <th>2-5</th>\n",
       "      <th>6-10</th>\n",
       "      <th>11-20</th>\n",
       "      <th>21-30</th>\n",
       "      <th>31-50</th>\n",
       "      <th>51+</th>\n",
       "    </tr>\n",
       "  </thead>\n",
       "  <tbody>\n",
       "    <tr>\n",
       "      <th>0</th>\n",
       "      <td>838188</td>\n",
       "      <td>1275681</td>\n",
       "      <td>956043</td>\n",
       "      <td>777063</td>\n",
       "      <td>324689</td>\n",
       "      <td>152613</td>\n",
       "      <td>39097</td>\n",
       "    </tr>\n",
       "  </tbody>\n",
       "</table>\n",
       "</div>"
      ],
      "text/plain": [
       "      0-1  \\\n",
       "0  838188   \n",
       "\n",
       "       2-5  \\\n",
       "0  1275681   \n",
       "\n",
       "     6-10  \\\n",
       "0  956043   \n",
       "\n",
       "    11-20  \\\n",
       "0  777063   \n",
       "\n",
       "    21-30  \\\n",
       "0  324689   \n",
       "\n",
       "    31-50  \\\n",
       "0  152613   \n",
       "\n",
       "     51+  \n",
       "0  39097  "
      ]
     },
     "execution_count": 36,
     "metadata": {},
     "output_type": "execute_result"
    }
   ],
   "source": [
    "dd = pd.DataFrame([[838188, 1275681, 956043, 777063, 324689, 152613, 39097]],columns=[\"0-1\",\"2-5\",\"6-10\",\"11-20\",\"21-30\",\"31-50\",\"51+\"])\n",
    "dd"
   ]
  },
  {
   "cell_type": "code",
   "execution_count": 51,
   "metadata": {
    "collapsed": false
   },
   "outputs": [
    {
     "name": "stderr",
     "output_type": "stream",
     "text": [
      "/Users/aseemaggarwal/anaconda/lib/python3.6/site-packages/matplotlib/axes/_base.py:2903: UserWarning: Attempting to set identical left==right results\n",
      "in singular transformations; automatically expanding.\n",
      "left=0.0, right=0.0\n",
      "  'left=%s, right=%s') % (left, right))\n"
     ]
    },
    {
     "data": {
      "text/plain": [
       "<matplotlib.axes._subplots.AxesSubplot at 0x1172ba160>"
      ]
     },
     "execution_count": 51,
     "metadata": {},
     "output_type": "execute_result"
    }
   ],
   "source": [
    "dd.plot()"
   ]
  },
  {
   "cell_type": "code",
   "execution_count": 33,
   "metadata": {
    "collapsed": false
   },
   "outputs": [
    {
     "data": {
      "text/html": [
       "<div>\n",
       "<table border=\"1\" class=\"dataframe\">\n",
       "  <thead>\n",
       "    <tr style=\"text-align: right;\">\n",
       "      <th></th>\n",
       "      <th>d</th>\n",
       "    </tr>\n",
       "  </thead>\n",
       "  <tbody>\n",
       "    <tr>\n",
       "      <th>0</th>\n",
       "      <td>838188</td>\n",
       "    </tr>\n",
       "    <tr>\n",
       "      <th>1</th>\n",
       "      <td>1275681</td>\n",
       "    </tr>\n",
       "    <tr>\n",
       "      <th>2</th>\n",
       "      <td>956043</td>\n",
       "    </tr>\n",
       "    <tr>\n",
       "      <th>3</th>\n",
       "      <td>777063</td>\n",
       "    </tr>\n",
       "    <tr>\n",
       "      <th>4</th>\n",
       "      <td>324689</td>\n",
       "    </tr>\n",
       "    <tr>\n",
       "      <th>5</th>\n",
       "      <td>152613</td>\n",
       "    </tr>\n",
       "    <tr>\n",
       "      <th>6</th>\n",
       "      <td>39097</td>\n",
       "    </tr>\n",
       "  </tbody>\n",
       "</table>\n",
       "</div>"
      ],
      "text/plain": [
       "         d\n",
       "0  838188 \n",
       "1  1275681\n",
       "2  956043 \n",
       "3  777063 \n",
       "4  324689 \n",
       "5  152613 \n",
       "6  39097  "
      ]
     },
     "execution_count": 33,
     "metadata": {},
     "output_type": "execute_result"
    }
   ],
   "source": [
    "dd = pd.DataFrame([838188, 1275681, 956043, 777063, 324689, 152613, 39097],columns=[\"d\"])\n",
    "dd"
   ]
  },
  {
   "cell_type": "code",
   "execution_count": 32,
   "metadata": {
    "collapsed": false
   },
   "outputs": [
    {
     "data": {
      "text/html": [
       "<div>\n",
       "<table border=\"1\" class=\"dataframe\">\n",
       "  <thead>\n",
       "    <tr style=\"text-align: right;\">\n",
       "      <th></th>\n",
       "      <th>d</th>\n",
       "    </tr>\n",
       "  </thead>\n",
       "  <tbody>\n",
       "    <tr>\n",
       "      <th>0.25</th>\n",
       "      <td>238651.00</td>\n",
       "    </tr>\n",
       "    <tr>\n",
       "      <th>0.50</th>\n",
       "      <td>777063.00</td>\n",
       "    </tr>\n",
       "    <tr>\n",
       "      <th>0.80</th>\n",
       "      <td>932472.00</td>\n",
       "    </tr>\n",
       "    <tr>\n",
       "      <th>0.99</th>\n",
       "      <td>1256502.72</td>\n",
       "    </tr>\n",
       "  </tbody>\n",
       "</table>\n",
       "</div>"
      ],
      "text/plain": [
       "               d\n",
       "0.25  238651.00 \n",
       "0.50  777063.00 \n",
       "0.80  932472.00 \n",
       "0.99  1256502.72"
      ]
     },
     "execution_count": 32,
     "metadata": {},
     "output_type": "execute_result"
    }
   ],
   "source": [
    "dd.quantile([0.25,0.5,0.8,0.99])"
   ]
  },
  {
   "cell_type": "code",
   "execution_count": 70,
   "metadata": {
    "collapsed": false
   },
   "outputs": [
    {
     "ename": "TypeError",
     "evalue": "'Figure' object is not callable",
     "output_type": "error",
     "traceback": [
      "\u001b[0;31m---------------------------------------------------------------------------\u001b[0m",
      "\u001b[0;31mTypeError\u001b[0m                                 Traceback (most recent call last)",
      "\u001b[0;32m<ipython-input-70-e6f01b35fdac>\u001b[0m in \u001b[0;36m<module>\u001b[0;34m()\u001b[0m\n\u001b[0;32m----> 1\u001b[0;31m \u001b[0mplt\u001b[0m\u001b[0;34m.\u001b[0m\u001b[0mfigure\u001b[0m\u001b[0;34m(\u001b[0m\u001b[0;34m)\u001b[0m\u001b[0;34m\u001b[0m\u001b[0m\n\u001b[0m\u001b[1;32m      2\u001b[0m \u001b[0mplt\u001b[0m\u001b[0;34m.\u001b[0m\u001b[0mhist\u001b[0m\u001b[0;34m(\u001b[0m\u001b[0mdd\u001b[0m\u001b[0;34m)\u001b[0m\u001b[0;34m\u001b[0m\u001b[0m\n",
      "\u001b[0;31mTypeError\u001b[0m: 'Figure' object is not callable"
     ]
    }
   ],
   "source": [
    "plt.figure()\n",
    "plt.hist(dd)"
   ]
  },
  {
   "cell_type": "markdown",
   "metadata": {
    "collapsed": true
   },
   "source": [
    "# Driving Times"
   ]
  },
  {
   "cell_type": "code",
   "execution_count": 5,
   "metadata": {
    "collapsed": false
   },
   "outputs": [],
   "source": [
    "df = pd.DataFrame.from_dict(dtimes)"
   ]
  },
  {
   "cell_type": "code",
   "execution_count": 6,
   "metadata": {
    "collapsed": false
   },
   "outputs": [
    {
     "data": {
      "text/plain": [
       "(1739618, 13)"
      ]
     },
     "execution_count": 6,
     "metadata": {},
     "output_type": "execute_result"
    }
   ],
   "source": [
    "df.shape"
   ]
  },
  {
   "cell_type": "code",
   "execution_count": 7,
   "metadata": {
    "collapsed": false
   },
   "outputs": [
    {
     "data": {
      "text/plain": [
       "Index(['_id', 'dist', 'dur', 'durTr', 'enAdd', 'enLoc', 'neDist', 'stAdd',\n",
       "       'stLoc', 'steps', 'tEn', 'tFr', 'timestamp'],\n",
       "      dtype='object')"
      ]
     },
     "execution_count": 7,
     "metadata": {},
     "output_type": "execute_result"
    }
   ],
   "source": [
    "df.columns"
   ]
  },
  {
   "cell_type": "code",
   "execution_count": 12,
   "metadata": {
    "collapsed": false
   },
   "outputs": [
    {
     "data": {
      "image/png": "[encoded data removed]",
      "text/plain": [
       "<matplotlib.figure.Figure at 0x291ec9ba8>"
      ]
     },
     "metadata": {},
     "output_type": "display_data"
    }
   ],
   "source": []
  },
  {
   "cell_type": "code",
   "execution_count": 13,
   "metadata": {
    "collapsed": false
   },
   "outputs": [],
   "source": [
    "def thresh(val):\n",
    "    if val < 1:\n",
    "        return 100\n",
    "    else:\n",
    "        return val*100"
   ]
  },
  {
   "cell_type": "code",
   "execution_count": 14,
   "metadata": {
    "collapsed": false
   },
   "outputs": [],
   "source": [
    "df[\"excessRatio\"] = (df[\"durTr\"]/df[\"dur\"])"
   ]
  },
  {
   "cell_type": "code",
   "execution_count": 15,
   "metadata": {
    "collapsed": true
   },
   "outputs": [],
   "source": [
    "df[\"excessRatio\"] = df[\"excessRatio\"].apply(thresh)"
   ]
  },
  {
   "cell_type": "code",
   "execution_count": 16,
   "metadata": {
    "collapsed": false
   },
   "outputs": [
    {
     "data": {
      "text/plain": [
       "count    1.739618e+06\n",
       "mean     1.373000e+02\n",
       "std      2.898468e+01\n",
       "min      1.000000e+02\n",
       "25%      1.105788e+02\n",
       "50%      1.357787e+02\n",
       "75%      1.567706e+02\n",
       "max      3.464203e+02\n",
       "Name: excessRatio, dtype: float64"
      ]
     },
     "execution_count": 16,
     "metadata": {},
     "output_type": "execute_result"
    }
   ],
   "source": [
    "df[\"excessRatio\"].describe()"
   ]
  },
  {
   "cell_type": "code",
   "execution_count": 22,
   "metadata": {
    "collapsed": false
   },
   "outputs": [
    {
     "data": {
      "text/plain": [
       "0.1000    100.155428\n",
       "0.2000    106.366090\n",
       "0.3000    115.982619\n",
       "0.4000    127.123994\n",
       "0.5000    135.778747\n",
       "0.6000    143.778383\n",
       "0.7000    152.166925\n",
       "0.8000    161.948420\n",
       "0.9000    175.842359\n",
       "0.9900    214.636351\n",
       "0.9990    246.786436\n",
       "0.9999    278.050889\n",
       "Name: excessRatio, dtype: float64"
      ]
     },
     "execution_count": 22,
     "metadata": {},
     "output_type": "execute_result"
    }
   ],
   "source": [
    "df[\"excessRatio\"].quantile([0.1,0.2,0.3,0.4,0.5,0.6,0.7,0.8,0.9,.99,.999,.9999])"
   ]
  },
  {
   "cell_type": "markdown",
   "metadata": {},
   "source": [
    "### Converting the timestamp to actual timepoint"
   ]
  },
  {
   "cell_type": "code",
   "execution_count": 13,
   "metadata": {
    "collapsed": false
   },
   "outputs": [],
   "source": [
    "df[\"timestamp\"] = df[\"timestamp\"]*1000"
   ]
  },
  {
   "cell_type": "code",
   "execution_count": 14,
   "metadata": {
    "collapsed": false
   },
   "outputs": [],
   "source": [
    "def week_time(ts):\n",
    "    date = pd.to_datetime(ts, unit='ms')\n",
    "    return (str(date.dayofweek) + \"_\"+str(date.hour+5).zfill(2) + \"_\"  +str(date.minute+30))"
   ]
  },
  {
   "cell_type": "code",
   "execution_count": 15,
   "metadata": {
    "collapsed": false
   },
   "outputs": [],
   "source": [
    "df[\"week_time\"] = df[\"timestamp\"].apply(week_time)"
   ]
  },
  {
   "cell_type": "markdown",
   "metadata": {},
   "source": [
    "### Plotting the variation in total excess time across timepoints "
   ]
  },
  {
   "cell_type": "code",
   "execution_count": 16,
   "metadata": {
    "collapsed": true
   },
   "outputs": [],
   "source": [
    "def plot_excesstime(dd): \n",
    "    grps_time = dd.groupby(df[\"week_time\"])\n",
    "    timepoints_sum = grps_time.sum()\n",
    "    pltt = timepoints_sum.plot(kind=\"bar\",sort_columns=True)\n",
    "    return pltt"
   ]
  },
  {
   "cell_type": "code",
   "execution_count": 17,
   "metadata": {
    "collapsed": false
   },
   "outputs": [
    {
     "data": {
      "image/png": "[encoded data removed]",
      "text/plain": [
       "<matplotlib.figure.Figure at 0x1f3cb4240>"
      ]
     },
     "metadata": {},
     "output_type": "display_data"
    }
   ],
   "source": [
    "plt1 = plot_excesstime(df[\"excessRatio\"])\n",
    "plt.show()"
   ]
  },
  {
   "cell_type": "code",
   "execution_count": 18,
   "metadata": {
    "collapsed": false
   },
   "outputs": [
    {
     "data": {
      "image/png": "[encoded data removed]",
      "text/plain": [
       "<matplotlib.figure.Figure at 0x1ee64d9e8>"
      ]
     },
     "metadata": {},
     "output_type": "display_data"
    }
   ],
   "source": [
    "plt2 = plot_excesstime(df[df[\"dist\"]>25000][\"excessRatio\"])\n",
    "plt2.set_ylim(0,120000)\n",
    "plt.show()"
   ]
  },
  {
   "cell_type": "code",
   "execution_count": 19,
   "metadata": {
    "collapsed": false
   },
   "outputs": [],
   "source": [
    "df[\"distCat\"] = pd.cut(df[\"dist\"], [0,4000,8000,12000,16000,20000,24000,28000,32000,50000])"
   ]
  },
  {
   "cell_type": "markdown",
   "metadata": {},
   "source": [
    "### Finding total time wasted by timepoint and distance"
   ]
  },
  {
   "cell_type": "code",
   "execution_count": 20,
   "metadata": {
    "collapsed": false
   },
   "outputs": [
    {
     "data": {
      "image/png": "[encoded data removed]",
      "text/plain": [
       "<matplotlib.figure.Figure at 0x1ee5ba7f0>"
      ]
     },
     "metadata": {},
     "output_type": "display_data"
    }
   ],
   "source": [
    "grps_time = df.groupby([\"week_time\",\"distCat\"])[\"excessRatio\"].sum()\n",
    "my_plot = grps_time.unstack().plot(kind='bar',title=\"Total Excess Time by Timepoints\",figsize=(15, 7))\n",
    "my_plot.set_xlabel(\"Timepoints\")\n",
    "my_plot.set_ylabel(\"Excess Time\")\n",
    "plt.show()"
   ]
  },
  {
   "cell_type": "markdown",
   "metadata": {},
   "source": [
    "### Finding average time wasted by timepoint and distance"
   ]
  },
  {
   "cell_type": "code",
   "execution_count": 21,
   "metadata": {
    "collapsed": false
   },
   "outputs": [
    {
     "data": {
      "image/png": "[encoded data removed]",
      "text/plain": [
       "<matplotlib.figure.Figure at 0x1ecfa0ef0>"
      ]
     },
     "metadata": {},
     "output_type": "display_data"
    }
   ],
   "source": [
    "grps_time = df.groupby([\"week_time\",\"distCat\"])[\"excessRatio\"].mean()\n",
    "my_plot = grps_time.unstack().plot(kind='bar',title=\"Total Excess Time by Timepoints\",figsize=(20, 8))\n",
    "my_plot.set_xlabel(\"Timepoints\")\n",
    "my_plot.set_ylabel(\"Excess Time\")\n",
    "my_plot.legend(loc=9,ncol=10)\n",
    "plt.show()"
   ]
  },
  {
   "cell_type": "code",
   "execution_count": null,
   "metadata": {
    "collapsed": true
   },
   "outputs": [],
   "source": [
    "## Finding categories of time wasted"
   ]
  },
  {
   "cell_type": "code",
   "execution_count": 146,
   "metadata": {
    "collapsed": true
   },
   "outputs": [],
   "source": [
    "df[\"excessRatioCat\"] = pd.cut(df[\"excessRatio\"], [100,110,120,150,180,210,250,310])"
   ]
  },
  {
   "cell_type": "code",
   "execution_count": 159,
   "metadata": {
    "collapsed": false
   },
   "outputs": [
    {
     "data": {
      "image/png": "[encoded data removed]",
      "text/plain": [
       "<matplotlib.figure.Figure at 0x206313898>"
      ]
     },
     "metadata": {},
     "output_type": "display_data"
    }
   ],
   "source": [
    "grps_time = df.groupby([\"week_time\",\"excessRatioCat\"])[\"excessRatioCat\"].count()\n",
    "my_plot = grps_time.unstack().plot(kind='bar',stacked=True,title=\"Total Excess Time by Timepoints\",figsize=(20, 8))\n",
    "my_plot.set_xlabel(\"Timepoints\")\n",
    "my_plot.set_ylabel(\"Excess Time\")\n",
    "my_plot.legend(loc=9,ncol=10)\n",
    "plt.show()"
   ]
  },
  {
   "cell_type": "markdown",
   "metadata": {},
   "source": [
    "## Raw Facts"
   ]
  },
  {
   "cell_type": "markdown",
   "metadata": {},
   "source": [
    "### Example: 25% percentage area of Delhi which is spending atleast 38% excess time to commute"
   ]
  },
  {
   "cell_type": "code",
   "execution_count": 81,
   "metadata": {
    "collapsed": false
   },
   "outputs": [
    {
     "data": {
      "text/plain": [
       "0.25    112.265779\n",
       "0.50    128.203402\n",
       "0.75    142.007894\n",
       "0.90    148.254128\n",
       "0.95    150.358077\n",
       "Name: excessRatio, dtype: float64"
      ]
     },
     "execution_count": 81,
     "metadata": {},
     "output_type": "execute_result"
    }
   ],
   "source": [
    "grps_time = df.groupby([\"tFr\"])[\"excessRatio\"].mean()\n",
    "grps_time.quantile([.25,.5,.75,.9,.95])"
   ]
  },
  {
   "cell_type": "code",
   "execution_count": 85,
   "metadata": {
    "collapsed": false
   },
   "outputs": [
    {
     "data": {
      "text/plain": [
       "tFr\n",
       "8      103.127710\n",
       "9      106.507093\n",
       "10     106.065326\n",
       "36     103.113600\n",
       "37     105.499132\n",
       "38     105.818502\n",
       "39     106.593775\n",
       "61     104.709152\n",
       "62     103.236586\n",
       "63     104.215197\n",
       "64     104.811973\n",
       "65     106.965311\n",
       "66     107.863054\n",
       "67     107.487463\n",
       "68     105.952860\n",
       "90     104.326352\n",
       "91     104.994616\n",
       "92     105.020345\n",
       "93     105.839977\n",
       "94     106.874709\n",
       "95     109.068274\n",
       "96     107.476350\n",
       "97     106.259315\n",
       "118    105.600297\n",
       "119    107.492409\n",
       "120    106.552401\n",
       "121    109.930889\n",
       "122    112.319310\n",
       "123    109.463942\n",
       "124    109.044583\n",
       "          ...    \n",
       "762    141.011737\n",
       "763    134.451572\n",
       "764    146.457852\n",
       "765    130.356175\n",
       "766    148.260101\n",
       "767    147.379380\n",
       "768    145.722631\n",
       "769    147.555363\n",
       "770    147.130864\n",
       "771    144.826092\n",
       "772    137.921186\n",
       "773    138.197589\n",
       "774    125.423429\n",
       "788    135.331789\n",
       "789    139.857879\n",
       "790    135.549625\n",
       "791    130.564263\n",
       "795    149.980096\n",
       "796    144.684300\n",
       "797    143.898191\n",
       "798    139.613386\n",
       "799    144.072356\n",
       "800    138.646937\n",
       "801    129.887790\n",
       "818    131.387206\n",
       "819    132.534508\n",
       "823    150.094086\n",
       "824    143.808124\n",
       "825    143.313631\n",
       "828    135.461733\n",
       "Name: excessRatio, dtype: float64"
      ]
     },
     "execution_count": 85,
     "metadata": {},
     "output_type": "execute_result"
    }
   ],
   "source": [
    "grps_time"
   ]
  },
  {
   "cell_type": "code",
   "execution_count": 84,
   "metadata": {
    "collapsed": false
   },
   "outputs": [
    {
     "data": {
      "text/plain": [
       "Index(['_id', 'geometry', 'properties', 'type'], dtype='object')"
      ]
     },
     "execution_count": 84,
     "metadata": {},
     "output_type": "execute_result"
    }
   ],
   "source": [
    "hex_tiles.columns"
   ]
  },
  {
   "cell_type": "markdown",
   "metadata": {},
   "source": [
    "### Example: In peak hour of evenings (5:30pm) 25% percentage area of Delhi is spending atleast 67% excess time to commute"
   ]
  },
  {
   "cell_type": "code",
   "execution_count": 24,
   "metadata": {
    "collapsed": false
   },
   "outputs": [
    {
     "data": {
      "text/plain": [
       "0.25    129.035955\n",
       "0.50    147.971754\n",
       "0.75    167.808511\n",
       "0.90    183.015136\n",
       "0.95    187.339789\n",
       "Name: excessRatio, dtype: float64"
      ]
     },
     "execution_count": 24,
     "metadata": {},
     "output_type": "execute_result"
    }
   ],
   "source": [
    "grps_time = df[df[\"week_time\"]==\"0_17_30\"].groupby([\"tFr\"])[\"excessRatio\"].mean()\n",
    "grps_time.quantile([.25,.5,.75,.9,.95])"
   ]
  },
  {
   "cell_type": "markdown",
   "metadata": {},
   "source": [
    "### Example: In peak hour of evenings (5:30pm) 25% percentage area of Delhi is spending atleast 78% excess time to commute 20kms or more"
   ]
  },
  {
   "cell_type": "code",
   "execution_count": 25,
   "metadata": {
    "collapsed": false
   },
   "outputs": [
    {
     "data": {
      "text/plain": [
       "0.25    139.405871\n",
       "0.50    157.217802\n",
       "0.75    178.681226\n",
       "0.90    191.955788\n",
       "0.95    202.045053\n",
       "Name: excessRatio, dtype: float64"
      ]
     },
     "execution_count": 25,
     "metadata": {},
     "output_type": "execute_result"
    }
   ],
   "source": [
    "grps_time = df[(df[\"week_time\"]==\"0_17_30\") & (df[\"dist\"]>20000)].groupby([\"tFr\"])[\"excessRatio\"].mean()\n",
    "grps_time.quantile([.25,.5,.75,.9,.95])"
   ]
  },
  {
   "cell_type": "code",
   "execution_count": 76,
   "metadata": {
    "collapsed": false
   },
   "outputs": [
    {
     "data": {
      "text/html": [
       "<div>\n",
       "<table border=\"1\" class=\"dataframe\">\n",
       "  <thead>\n",
       "    <tr style=\"text-align: right;\">\n",
       "      <th></th>\n",
       "      <th>_id</th>\n",
       "      <th>dist</th>\n",
       "      <th>dur</th>\n",
       "      <th>durTr</th>\n",
       "      <th>enAdd</th>\n",
       "      <th>enLoc</th>\n",
       "      <th>neDist</th>\n",
       "      <th>stAdd</th>\n",
       "      <th>stLoc</th>\n",
       "      <th>steps</th>\n",
       "      <th>tEn</th>\n",
       "      <th>tFr</th>\n",
       "      <th>timestamp</th>\n",
       "      <th>excessRatio</th>\n",
       "    </tr>\n",
       "  </thead>\n",
       "  <tbody>\n",
       "    <tr>\n",
       "      <th>102072</th>\n",
       "      <td>317_427_1_0_0</td>\n",
       "      <td>12569</td>\n",
       "      <td>1167</td>\n",
       "      <td>2426</td>\n",
       "      <td>Gurgaon - Delhi Expy, Yawantika Colony, Samalk...</td>\n",
       "      <td>{'lat': 28.5258084, 'lng': 77.1011511}</td>\n",
       "      <td>4</td>\n",
       "      <td>10, UER II, Sector 24 Dwarka, Dwarka, Delhi, 1...</td>\n",
       "      <td>{'lat': 28.5604293, 'lng': 77.0322908}</td>\n",
       "      <td>[{'dist': 6550, 'dur': 640, 'stLoc': {'lat': 2...</td>\n",
       "      <td>427</td>\n",
       "      <td>317</td>\n",
       "      <td>1491192000</td>\n",
       "      <td>207.883462</td>\n",
       "    </tr>\n",
       "    <tr>\n",
       "      <th>105385</th>\n",
       "      <td>344_372_1_0_0</td>\n",
       "      <td>3708</td>\n",
       "      <td>454</td>\n",
       "      <td>1000</td>\n",
       "      <td>UER II, Bharthal, New Delhi, Delhi 110037, India</td>\n",
       "      <td>{'lat': 28.5437084, 'lng': 77.0668156}</td>\n",
       "      <td>1</td>\n",
       "      <td>UER II, Sector 25 Dwarka, Dwarka, New Delhi, D...</td>\n",
       "      <td>{'lat': 28.5523951, 'lng': 77.0489463}</td>\n",
       "      <td>[{'dist': 260, 'dur': 37, 'stLoc': {'lat': 28....</td>\n",
       "      <td>372</td>\n",
       "      <td>344</td>\n",
       "      <td>1491192000</td>\n",
       "      <td>220.264317</td>\n",
       "    </tr>\n",
       "    <tr>\n",
       "      <th>105409</th>\n",
       "      <td>344_398_1_0_0</td>\n",
       "      <td>7739</td>\n",
       "      <td>1029</td>\n",
       "      <td>2157</td>\n",
       "      <td>108, Old Delhi Gurgaon Rd, Udyog Vihar, Udyog ...</td>\n",
       "      <td>{'lat': 28.5167569, 'lng': 77.0838481}</td>\n",
       "      <td>3</td>\n",
       "      <td>UER II, Sector 25 Dwarka, Dwarka, New Delhi, D...</td>\n",
       "      <td>{'lat': 28.5523951, 'lng': 77.0489463}</td>\n",
       "      <td>[{'dist': 260, 'dur': 37, 'stLoc': {'lat': 28....</td>\n",
       "      <td>398</td>\n",
       "      <td>344</td>\n",
       "      <td>1491192000</td>\n",
       "      <td>209.620991</td>\n",
       "    </tr>\n",
       "    <tr>\n",
       "      <th>105410</th>\n",
       "      <td>344_427_1_0_0</td>\n",
       "      <td>10913</td>\n",
       "      <td>1008</td>\n",
       "      <td>2140</td>\n",
       "      <td>Gurgaon - Delhi Expy, Yawantika Colony, Samalk...</td>\n",
       "      <td>{'lat': 28.5258084, 'lng': 77.1011511}</td>\n",
       "      <td>3</td>\n",
       "      <td>UER II, Sector 25 Dwarka, Dwarka, New Delhi, D...</td>\n",
       "      <td>{'lat': 28.5523951, 'lng': 77.0489463}</td>\n",
       "      <td>[{'dist': 260, 'dur': 37, 'stLoc': {'lat': 28....</td>\n",
       "      <td>427</td>\n",
       "      <td>344</td>\n",
       "      <td>1491192000</td>\n",
       "      <td>212.301587</td>\n",
       "    </tr>\n",
       "    <tr>\n",
       "      <th>105457</th>\n",
       "      <td>344_452_1_0_0</td>\n",
       "      <td>15332</td>\n",
       "      <td>1779</td>\n",
       "      <td>3623</td>\n",
       "      <td>Acharya Shree Tulsi Marg, Arjan Garh, Aya Naga...</td>\n",
       "      <td>{'lat': 28.4814126, 'lng': 77.119063}</td>\n",
       "      <td>6</td>\n",
       "      <td>UER II, Sector 25 Dwarka, Dwarka, New Delhi, D...</td>\n",
       "      <td>{'lat': 28.5523951, 'lng': 77.0489463}</td>\n",
       "      <td>[{'dist': 260, 'dur': 37, 'stLoc': {'lat': 28....</td>\n",
       "      <td>452</td>\n",
       "      <td>344</td>\n",
       "      <td>1491192000</td>\n",
       "      <td>203.653738</td>\n",
       "    </tr>\n",
       "    <tr>\n",
       "      <th>105458</th>\n",
       "      <td>344_481_1_0_0</td>\n",
       "      <td>17306</td>\n",
       "      <td>1924</td>\n",
       "      <td>3878</td>\n",
       "      <td>356, Acharya Shree Tulsi Marg, Ghitorni, New D...</td>\n",
       "      <td>{'lat': 28.4907417, 'lng': 77.1365891}</td>\n",
       "      <td>6</td>\n",
       "      <td>UER II, Sector 25 Dwarka, Dwarka, New Delhi, D...</td>\n",
       "      <td>{'lat': 28.5523951, 'lng': 77.0489463}</td>\n",
       "      <td>[{'dist': 260, 'dur': 37, 'stLoc': {'lat': 28....</td>\n",
       "      <td>481</td>\n",
       "      <td>344</td>\n",
       "      <td>1491192000</td>\n",
       "      <td>201.559252</td>\n",
       "    </tr>\n",
       "    <tr>\n",
       "      <th>105476</th>\n",
       "      <td>344_424_1_0_0</td>\n",
       "      <td>14986</td>\n",
       "      <td>1865</td>\n",
       "      <td>3745</td>\n",
       "      <td>A 1/10, Deodar Marg, Block A, Sector 26A, Guru...</td>\n",
       "      <td>{'lat': 28.473086, 'lng': 77.1010319}</td>\n",
       "      <td>7</td>\n",
       "      <td>UER II, Sector 25 Dwarka, Dwarka, New Delhi, D...</td>\n",
       "      <td>{'lat': 28.5523951, 'lng': 77.0489463}</td>\n",
       "      <td>[{'dist': 260, 'dur': 37, 'stLoc': {'lat': 28....</td>\n",
       "      <td>424</td>\n",
       "      <td>344</td>\n",
       "      <td>1491192000</td>\n",
       "      <td>200.804290</td>\n",
       "    </tr>\n",
       "    <tr>\n",
       "      <th>105501</th>\n",
       "      <td>344_450_1_0_0</td>\n",
       "      <td>18378</td>\n",
       "      <td>2051</td>\n",
       "      <td>4123</td>\n",
       "      <td>Unnamed Road, DLF Phase 5, Sector 54, Gurugram...</td>\n",
       "      <td>{'lat': 28.4490204, 'lng': 77.1183346}</td>\n",
       "      <td>8</td>\n",
       "      <td>UER II, Sector 25 Dwarka, Dwarka, New Delhi, D...</td>\n",
       "      <td>{'lat': 28.5523951, 'lng': 77.0489463}</td>\n",
       "      <td>[{'dist': 260, 'dur': 37, 'stLoc': {'lat': 28....</td>\n",
       "      <td>450</td>\n",
       "      <td>344</td>\n",
       "      <td>1491192000</td>\n",
       "      <td>201.023891</td>\n",
       "    </tr>\n",
       "    <tr>\n",
       "      <th>105622</th>\n",
       "      <td>345_427_1_0_0</td>\n",
       "      <td>13251</td>\n",
       "      <td>1213</td>\n",
       "      <td>2446</td>\n",
       "      <td>Gurgaon - Delhi Expy, Yawantika Colony, Samalk...</td>\n",
       "      <td>{'lat': 28.5258084, 'lng': 77.1011511}</td>\n",
       "      <td>4</td>\n",
       "      <td>Dabri - Gurgaon Rd, Sector 23, Dwarka, Delhi, ...</td>\n",
       "      <td>{'lat': 28.5687848, 'lng': 77.0504399}</td>\n",
       "      <td>[{'dist': 222, 'dur': 19, 'stLoc': {'lat': 28....</td>\n",
       "      <td>427</td>\n",
       "      <td>345</td>\n",
       "      <td>1491192000</td>\n",
       "      <td>201.648805</td>\n",
       "    </tr>\n",
       "    <tr>\n",
       "      <th>106313</th>\n",
       "      <td>348_513_1_0_0</td>\n",
       "      <td>18866</td>\n",
       "      <td>2644</td>\n",
       "      <td>5523</td>\n",
       "      <td>102, Anuj Vihar, Delhi Cantonment, Delhi, 1100...</td>\n",
       "      <td>{'lat': 28.5699258, 'lng': 77.1528263}</td>\n",
       "      <td>6</td>\n",
       "      <td>Galli Number 12, Phase 2, Om Vihar, Nawada, De...</td>\n",
       "      <td>{'lat': 28.6221379, 'lng': 77.0494678}</td>\n",
       "      <td>[{'dist': 9, 'dur': 3, 'stLoc': {'lat': 28.622...</td>\n",
       "      <td>513</td>\n",
       "      <td>348</td>\n",
       "      <td>1491192000</td>\n",
       "      <td>208.888048</td>\n",
       "    </tr>\n",
       "    <tr>\n",
       "      <th>109619</th>\n",
       "      <td>374_513_1_0_0</td>\n",
       "      <td>13698</td>\n",
       "      <td>1726</td>\n",
       "      <td>3549</td>\n",
       "      <td>102, Anuj Vihar, Delhi Cantonment, Delhi, 1100...</td>\n",
       "      <td>{'lat': 28.5699258, 'lng': 77.1528263}</td>\n",
       "      <td>5</td>\n",
       "      <td>45 TO 52, Pocket 2, Dwarka Sector 9, Dwarka, N...</td>\n",
       "      <td>{'lat': 28.5783557, 'lng': 77.06670799999999}</td>\n",
       "      <td>[{'dist': 616, 'dur': 91, 'stLoc': {'lat': 28....</td>\n",
       "      <td>513</td>\n",
       "      <td>374</td>\n",
       "      <td>1491192000</td>\n",
       "      <td>205.619930</td>\n",
       "    </tr>\n",
       "    <tr>\n",
       "      <th>109642</th>\n",
       "      <td>374_541_1_0_0</td>\n",
       "      <td>14834</td>\n",
       "      <td>1904</td>\n",
       "      <td>3831</td>\n",
       "      <td>827V, Sector 5, RK Puram, New Delhi, Delhi 110...</td>\n",
       "      <td>{'lat': 28.5608323, 'lng': 77.17017299999999}</td>\n",
       "      <td>6</td>\n",
       "      <td>45 TO 52, Pocket 2, Dwarka Sector 9, Dwarka, N...</td>\n",
       "      <td>{'lat': 28.5783557, 'lng': 77.06670799999999}</td>\n",
       "      <td>[{'dist': 616, 'dur': 91, 'stLoc': {'lat': 28....</td>\n",
       "      <td>541</td>\n",
       "      <td>374</td>\n",
       "      <td>1491192000</td>\n",
       "      <td>201.207983</td>\n",
       "    </tr>\n",
       "    <tr>\n",
       "      <th>109643</th>\n",
       "      <td>374_542_1_0_0</td>\n",
       "      <td>14172</td>\n",
       "      <td>1799</td>\n",
       "      <td>3690</td>\n",
       "      <td>22, Rd Number 4, Sector 4, Moti Bagh, New Delh...</td>\n",
       "      <td>{'lat': 28.5782425, 'lng': 77.1702363}</td>\n",
       "      <td>6</td>\n",
       "      <td>45 TO 52, Pocket 2, Dwarka Sector 9, Dwarka, N...</td>\n",
       "      <td>{'lat': 28.5783557, 'lng': 77.06670799999999}</td>\n",
       "      <td>[{'dist': 616, 'dur': 91, 'stLoc': {'lat': 28....</td>\n",
       "      <td>542</td>\n",
       "      <td>374</td>\n",
       "      <td>1491192000</td>\n",
       "      <td>205.113952</td>\n",
       "    </tr>\n",
       "    <tr>\n",
       "      <th>109666</th>\n",
       "      <td>374_569_1_0_0</td>\n",
       "      <td>16400</td>\n",
       "      <td>2078</td>\n",
       "      <td>4171</td>\n",
       "      <td>FFS-14, Mahatma Gandhi Rd, Bhikaji Cama Place,...</td>\n",
       "      <td>{'lat': 28.5695504, 'lng': 77.1874266}</td>\n",
       "      <td>7</td>\n",
       "      <td>45 TO 52, Pocket 2, Dwarka Sector 9, Dwarka, N...</td>\n",
       "      <td>{'lat': 28.5783557, 'lng': 77.06670799999999}</td>\n",
       "      <td>[{'dist': 616, 'dur': 91, 'stLoc': {'lat': 28....</td>\n",
       "      <td>569</td>\n",
       "      <td>374</td>\n",
       "      <td>1491192000</td>\n",
       "      <td>200.721848</td>\n",
       "    </tr>\n",
       "    <tr>\n",
       "      <th>109667</th>\n",
       "      <td>374_570_1_0_0</td>\n",
       "      <td>16271</td>\n",
       "      <td>2007</td>\n",
       "      <td>4041</td>\n",
       "      <td>50-M, Satya Marg, Chanakyapuri, New Delhi, Del...</td>\n",
       "      <td>{'lat': 28.5872222, 'lng': 77.1871558}</td>\n",
       "      <td>7</td>\n",
       "      <td>45 TO 52, Pocket 2, Dwarka Sector 9, Dwarka, N...</td>\n",
       "      <td>{'lat': 28.5783557, 'lng': 77.06670799999999}</td>\n",
       "      <td>[{'dist': 616, 'dur': 91, 'stLoc': {'lat': 28....</td>\n",
       "      <td>570</td>\n",
       "      <td>374</td>\n",
       "      <td>1491192000</td>\n",
       "      <td>201.345291</td>\n",
       "    </tr>\n",
       "    <tr>\n",
       "      <th>109823</th>\n",
       "      <td>375_485_1_0_0</td>\n",
       "      <td>9513</td>\n",
       "      <td>1084</td>\n",
       "      <td>2278</td>\n",
       "      <td>Peripheral Rd, Shankar Vihar, New Delhi, Delhi...</td>\n",
       "      <td>{'lat': 28.5618426, 'lng': 77.1359628}</td>\n",
       "      <td>4</td>\n",
       "      <td>Rd Number 201, Sector 6 Dwarka, Dwarka, New De...</td>\n",
       "      <td>{'lat': 28.5958183, 'lng': 77.0667617}</td>\n",
       "      <td>[{'dist': 68, 'dur': 8, 'stLoc': {'lat': 28.59...</td>\n",
       "      <td>485</td>\n",
       "      <td>375</td>\n",
       "      <td>1491192000</td>\n",
       "      <td>210.147601</td>\n",
       "    </tr>\n",
       "    <tr>\n",
       "      <th>109824</th>\n",
       "      <td>375_486_1_0_0</td>\n",
       "      <td>9528</td>\n",
       "      <td>1086</td>\n",
       "      <td>2229</td>\n",
       "      <td>Latif Rd, Parade Ground, Delhi Cantonment, New...</td>\n",
       "      <td>{'lat': 28.5782218, 'lng': 77.1357347}</td>\n",
       "      <td>4</td>\n",
       "      <td>Rd Number 201, Sector 6 Dwarka, Dwarka, New De...</td>\n",
       "      <td>{'lat': 28.5958183, 'lng': 77.0667617}</td>\n",
       "      <td>[{'dist': 68, 'dur': 8, 'stLoc': {'lat': 28.59...</td>\n",
       "      <td>486</td>\n",
       "      <td>375</td>\n",
       "      <td>1491192000</td>\n",
       "      <td>205.248619</td>\n",
       "    </tr>\n",
       "    <tr>\n",
       "      <th>109841</th>\n",
       "      <td>375_427_1_0_0</td>\n",
       "      <td>14312</td>\n",
       "      <td>1272</td>\n",
       "      <td>3149</td>\n",
       "      <td>Gurgaon - Delhi Expy, Yawantika Colony, Samalk...</td>\n",
       "      <td>{'lat': 28.5258084, 'lng': 77.1011511}</td>\n",
       "      <td>5</td>\n",
       "      <td>Rd Number 201, Sector 6 Dwarka, Dwarka, New De...</td>\n",
       "      <td>{'lat': 28.5958183, 'lng': 77.0667617}</td>\n",
       "      <td>[{'dist': 68, 'dur': 8, 'stLoc': {'lat': 28.59...</td>\n",
       "      <td>427</td>\n",
       "      <td>375</td>\n",
       "      <td>1491192000</td>\n",
       "      <td>247.562893</td>\n",
       "    </tr>\n",
       "    <tr>\n",
       "      <th>109845</th>\n",
       "      <td>375_513_1_0_0</td>\n",
       "      <td>11854</td>\n",
       "      <td>1399</td>\n",
       "      <td>3011</td>\n",
       "      <td>102, Anuj Vihar, Delhi Cantonment, Delhi, 1100...</td>\n",
       "      <td>{'lat': 28.5699258, 'lng': 77.1528263}</td>\n",
       "      <td>5</td>\n",
       "      <td>Rd Number 201, Sector 6 Dwarka, Dwarka, New De...</td>\n",
       "      <td>{'lat': 28.5958183, 'lng': 77.0667617}</td>\n",
       "      <td>[{'dist': 68, 'dur': 8, 'stLoc': {'lat': 28.59...</td>\n",
       "      <td>513</td>\n",
       "      <td>375</td>\n",
       "      <td>1491192000</td>\n",
       "      <td>215.225161</td>\n",
       "    </tr>\n",
       "    <tr>\n",
       "      <th>109869</th>\n",
       "      <td>375_541_1_0_0</td>\n",
       "      <td>12990</td>\n",
       "      <td>1577</td>\n",
       "      <td>3319</td>\n",
       "      <td>827V, Sector 5, RK Puram, New Delhi, Delhi 110...</td>\n",
       "      <td>{'lat': 28.5608323, 'lng': 77.17017299999999}</td>\n",
       "      <td>6</td>\n",
       "      <td>Rd Number 201, Sector 6 Dwarka, Dwarka, New De...</td>\n",
       "      <td>{'lat': 28.5958183, 'lng': 77.0667617}</td>\n",
       "      <td>[{'dist': 68, 'dur': 8, 'stLoc': {'lat': 28.59...</td>\n",
       "      <td>541</td>\n",
       "      <td>375</td>\n",
       "      <td>1491192000</td>\n",
       "      <td>210.462904</td>\n",
       "    </tr>\n",
       "    <tr>\n",
       "      <th>109870</th>\n",
       "      <td>375_542_1_0_0</td>\n",
       "      <td>12328</td>\n",
       "      <td>1472</td>\n",
       "      <td>3147</td>\n",
       "      <td>22, Rd Number 4, Sector 4, Moti Bagh, New Delh...</td>\n",
       "      <td>{'lat': 28.5782425, 'lng': 77.1702363}</td>\n",
       "      <td>6</td>\n",
       "      <td>Rd Number 201, Sector 6 Dwarka, Dwarka, New De...</td>\n",
       "      <td>{'lat': 28.5958183, 'lng': 77.0667617}</td>\n",
       "      <td>[{'dist': 68, 'dur': 8, 'stLoc': {'lat': 28.59...</td>\n",
       "      <td>542</td>\n",
       "      <td>375</td>\n",
       "      <td>1491192000</td>\n",
       "      <td>213.790761</td>\n",
       "    </tr>\n",
       "    <tr>\n",
       "      <th>109896</th>\n",
       "      <td>375_567_1_0_0</td>\n",
       "      <td>17052</td>\n",
       "      <td>2062</td>\n",
       "      <td>4142</td>\n",
       "      <td>C-6, Qutab Institutional Area, Block C, Qutab ...</td>\n",
       "      <td>{'lat': 28.5360679, 'lng': 77.1887551}</td>\n",
       "      <td>7</td>\n",
       "      <td>Rd Number 201, Sector 6 Dwarka, Dwarka, New De...</td>\n",
       "      <td>{'lat': 28.5958183, 'lng': 77.0667617}</td>\n",
       "      <td>[{'dist': 68, 'dur': 8, 'stLoc': {'lat': 28.59...</td>\n",
       "      <td>567</td>\n",
       "      <td>375</td>\n",
       "      <td>1491192000</td>\n",
       "      <td>200.872939</td>\n",
       "    </tr>\n",
       "    <tr>\n",
       "      <th>109897</th>\n",
       "      <td>375_568_1_0_0</td>\n",
       "      <td>15418</td>\n",
       "      <td>1763</td>\n",
       "      <td>3642</td>\n",
       "      <td>Africa Ave, Sector 3, RK Puram, New Delhi, Del...</td>\n",
       "      <td>{'lat': 28.5526844, 'lng': 77.1852469}</td>\n",
       "      <td>7</td>\n",
       "      <td>Rd Number 201, Sector 6 Dwarka, Dwarka, New De...</td>\n",
       "      <td>{'lat': 28.5958183, 'lng': 77.0667617}</td>\n",
       "      <td>[{'dist': 68, 'dur': 8, 'stLoc': {'lat': 28.59...</td>\n",
       "      <td>568</td>\n",
       "      <td>375</td>\n",
       "      <td>1491192000</td>\n",
       "      <td>206.579694</td>\n",
       "    </tr>\n",
       "    <tr>\n",
       "      <th>109898</th>\n",
       "      <td>375_569_1_0_0</td>\n",
       "      <td>14556</td>\n",
       "      <td>1751</td>\n",
       "      <td>3632</td>\n",
       "      <td>FFS-14, Mahatma Gandhi Rd, Bhikaji Cama Place,...</td>\n",
       "      <td>{'lat': 28.5695504, 'lng': 77.1874266}</td>\n",
       "      <td>7</td>\n",
       "      <td>Rd Number 201, Sector 6 Dwarka, Dwarka, New De...</td>\n",
       "      <td>{'lat': 28.5958183, 'lng': 77.0667617}</td>\n",
       "      <td>[{'dist': 68, 'dur': 8, 'stLoc': {'lat': 28.59...</td>\n",
       "      <td>569</td>\n",
       "      <td>375</td>\n",
       "      <td>1491192000</td>\n",
       "      <td>207.424329</td>\n",
       "    </tr>\n",
       "    <tr>\n",
       "      <th>109899</th>\n",
       "      <td>375_570_1_0_0</td>\n",
       "      <td>14427</td>\n",
       "      <td>1680</td>\n",
       "      <td>3504</td>\n",
       "      <td>50-M, Satya Marg, Chanakyapuri, New Delhi, Del...</td>\n",
       "      <td>{'lat': 28.5872222, 'lng': 77.1871558}</td>\n",
       "      <td>7</td>\n",
       "      <td>Rd Number 201, Sector 6 Dwarka, Dwarka, New De...</td>\n",
       "      <td>{'lat': 28.5958183, 'lng': 77.0667617}</td>\n",
       "      <td>[{'dist': 68, 'dur': 8, 'stLoc': {'lat': 28.59...</td>\n",
       "      <td>570</td>\n",
       "      <td>375</td>\n",
       "      <td>1491192000</td>\n",
       "      <td>208.571429</td>\n",
       "    </tr>\n",
       "    <tr>\n",
       "      <th>110101</th>\n",
       "      <td>376_427_1_0_0</td>\n",
       "      <td>16251</td>\n",
       "      <td>1779</td>\n",
       "      <td>3720</td>\n",
       "      <td>Gurgaon - Delhi Expy, Yawantika Colony, Samalk...</td>\n",
       "      <td>{'lat': 28.5258084, 'lng': 77.1011511}</td>\n",
       "      <td>6</td>\n",
       "      <td>5, Bindapur Matiala Rd, Parjapat Colony, Binda...</td>\n",
       "      <td>{'lat': 28.6134353, 'lng': 77.0666952}</td>\n",
       "      <td>[{'dist': 69, 'dur': 17, 'stLoc': {'lat': 28.6...</td>\n",
       "      <td>427</td>\n",
       "      <td>376</td>\n",
       "      <td>1491192000</td>\n",
       "      <td>209.106239</td>\n",
       "    </tr>\n",
       "    <tr>\n",
       "      <th>110311</th>\n",
       "      <td>377_486_1_0_0</td>\n",
       "      <td>15467</td>\n",
       "      <td>2088</td>\n",
       "      <td>4309</td>\n",
       "      <td>Latif Rd, Parade Ground, Delhi Cantonment, New...</td>\n",
       "      <td>{'lat': 28.5782218, 'lng': 77.1357347}</td>\n",
       "      <td>5</td>\n",
       "      <td>A-253, A-Block, Vikaspuri, Delhi, 110018, India</td>\n",
       "      <td>{'lat': 28.6310509, 'lng': 77.0667079}</td>\n",
       "      <td>[{'dist': 85, 'dur': 24, 'stLoc': {'lat': 28.6...</td>\n",
       "      <td>486</td>\n",
       "      <td>377</td>\n",
       "      <td>1491192000</td>\n",
       "      <td>206.369732</td>\n",
       "    </tr>\n",
       "    <tr>\n",
       "      <th>110338</th>\n",
       "      <td>377_485_1_0_0</td>\n",
       "      <td>15452</td>\n",
       "      <td>2086</td>\n",
       "      <td>4285</td>\n",
       "      <td>Peripheral Rd, Shankar Vihar, New Delhi, Delhi...</td>\n",
       "      <td>{'lat': 28.5618426, 'lng': 77.1359628}</td>\n",
       "      <td>6</td>\n",
       "      <td>A-253, A-Block, Vikaspuri, Delhi, 110018, India</td>\n",
       "      <td>{'lat': 28.6310509, 'lng': 77.0667079}</td>\n",
       "      <td>[{'dist': 85, 'dur': 24, 'stLoc': {'lat': 28.6...</td>\n",
       "      <td>485</td>\n",
       "      <td>377</td>\n",
       "      <td>1491192000</td>\n",
       "      <td>205.417066</td>\n",
       "    </tr>\n",
       "    <tr>\n",
       "      <th>110339</th>\n",
       "      <td>377_513_1_0_0</td>\n",
       "      <td>17793</td>\n",
       "      <td>2401</td>\n",
       "      <td>5290</td>\n",
       "      <td>102, Anuj Vihar, Delhi Cantonment, Delhi, 1100...</td>\n",
       "      <td>{'lat': 28.5699258, 'lng': 77.1528263}</td>\n",
       "      <td>6</td>\n",
       "      <td>A-253, A-Block, Vikaspuri, Delhi, 110018, India</td>\n",
       "      <td>{'lat': 28.6310509, 'lng': 77.0667079}</td>\n",
       "      <td>[{'dist': 85, 'dur': 24, 'stLoc': {'lat': 28.6...</td>\n",
       "      <td>513</td>\n",
       "      <td>377</td>\n",
       "      <td>1491192000</td>\n",
       "      <td>220.324865</td>\n",
       "    </tr>\n",
       "    <tr>\n",
       "      <th>110368</th>\n",
       "      <td>377_427_1_0_0</td>\n",
       "      <td>20251</td>\n",
       "      <td>2274</td>\n",
       "      <td>4985</td>\n",
       "      <td>Gurgaon - Delhi Expy, Yawantika Colony, Samalk...</td>\n",
       "      <td>{'lat': 28.5258084, 'lng': 77.1011511}</td>\n",
       "      <td>7</td>\n",
       "      <td>A-253, A-Block, Vikaspuri, Delhi, 110018, India</td>\n",
       "      <td>{'lat': 28.6310509, 'lng': 77.0667079}</td>\n",
       "      <td>[{'dist': 85, 'dur': 24, 'stLoc': {'lat': 28.6...</td>\n",
       "      <td>427</td>\n",
       "      <td>377</td>\n",
       "      <td>1491192000</td>\n",
       "      <td>219.217238</td>\n",
       "    </tr>\n",
       "    <tr>\n",
       "      <th>...</th>\n",
       "      <td>...</td>\n",
       "      <td>...</td>\n",
       "      <td>...</td>\n",
       "      <td>...</td>\n",
       "      <td>...</td>\n",
       "      <td>...</td>\n",
       "      <td>...</td>\n",
       "      <td>...</td>\n",
       "      <td>...</td>\n",
       "      <td>...</td>\n",
       "      <td>...</td>\n",
       "      <td>...</td>\n",
       "      <td>...</td>\n",
       "      <td>...</td>\n",
       "    </tr>\n",
       "    <tr>\n",
       "      <th>629993</th>\n",
       "      <td>485_430_2_15_15</td>\n",
       "      <td>6846</td>\n",
       "      <td>924</td>\n",
       "      <td>1878</td>\n",
       "      <td>Palam Rd, Prahladpur, Delhi Cantonment, New De...</td>\n",
       "      <td>{'lat': 28.5783429, 'lng': 77.1011889}</td>\n",
       "      <td>2</td>\n",
       "      <td>Peripheral Rd, Shankar Vihar, New Delhi, Delhi...</td>\n",
       "      <td>{'lat': 28.5618426, 'lng': 77.1359628}</td>\n",
       "      <td>[]</td>\n",
       "      <td>430</td>\n",
       "      <td>485</td>\n",
       "      <td>1492528500</td>\n",
       "      <td>203.246753</td>\n",
       "    </tr>\n",
       "    <tr>\n",
       "      <th>630004</th>\n",
       "      <td>485_402_2_15_15</td>\n",
       "      <td>10228</td>\n",
       "      <td>1383</td>\n",
       "      <td>2993</td>\n",
       "      <td>RZ-7B/11, Street Number 11, Sainipura, Block R...</td>\n",
       "      <td>{'lat': 28.5872098, 'lng': 77.0838443}</td>\n",
       "      <td>3</td>\n",
       "      <td>Peripheral Rd, Shankar Vihar, New Delhi, Delhi...</td>\n",
       "      <td>{'lat': 28.5618426, 'lng': 77.1359628}</td>\n",
       "      <td>[]</td>\n",
       "      <td>402</td>\n",
       "      <td>485</td>\n",
       "      <td>1492528500</td>\n",
       "      <td>216.413594</td>\n",
       "    </tr>\n",
       "    <tr>\n",
       "      <th>630017</th>\n",
       "      <td>485_403_2_15_15</td>\n",
       "      <td>10998</td>\n",
       "      <td>1594</td>\n",
       "      <td>3355</td>\n",
       "      <td>D-64-A, Street No-8, Block B, Dashrath Puri, N...</td>\n",
       "      <td>{'lat': 28.6046444, 'lng': 77.08395840000001}</td>\n",
       "      <td>4</td>\n",
       "      <td>Peripheral Rd, Shankar Vihar, New Delhi, Delhi...</td>\n",
       "      <td>{'lat': 28.5618426, 'lng': 77.1359628}</td>\n",
       "      <td>[]</td>\n",
       "      <td>403</td>\n",
       "      <td>485</td>\n",
       "      <td>1492528500</td>\n",
       "      <td>210.476788</td>\n",
       "    </tr>\n",
       "    <tr>\n",
       "      <th>630019</th>\n",
       "      <td>485_375_2_15_15</td>\n",
       "      <td>11642</td>\n",
       "      <td>1398</td>\n",
       "      <td>3128</td>\n",
       "      <td>Rd Number 201, Sector 6 Dwarka, Dwarka, New De...</td>\n",
       "      <td>{'lat': 28.5958183, 'lng': 77.0667617}</td>\n",
       "      <td>4</td>\n",
       "      <td>Peripheral Rd, Shankar Vihar, New Delhi, Delhi...</td>\n",
       "      <td>{'lat': 28.5618426, 'lng': 77.1359628}</td>\n",
       "      <td>[]</td>\n",
       "      <td>375</td>\n",
       "      <td>485</td>\n",
       "      <td>1492528500</td>\n",
       "      <td>223.748212</td>\n",
       "    </tr>\n",
       "    <tr>\n",
       "      <th>630040</th>\n",
       "      <td>485_347_2_15_15</td>\n",
       "      <td>12866</td>\n",
       "      <td>1611</td>\n",
       "      <td>3492</td>\n",
       "      <td>Rd Number 201, Sector 4, Dwarka, Delhi, 110078...</td>\n",
       "      <td>{'lat': 28.6050526, 'lng': 77.0493996}</td>\n",
       "      <td>5</td>\n",
       "      <td>Peripheral Rd, Shankar Vihar, New Delhi, Delhi...</td>\n",
       "      <td>{'lat': 28.5618426, 'lng': 77.1359628}</td>\n",
       "      <td>[]</td>\n",
       "      <td>347</td>\n",
       "      <td>485</td>\n",
       "      <td>1492528500</td>\n",
       "      <td>216.759777</td>\n",
       "    </tr>\n",
       "    <tr>\n",
       "      <th>630041</th>\n",
       "      <td>485_346_2_15_15</td>\n",
       "      <td>13553</td>\n",
       "      <td>1726</td>\n",
       "      <td>3648</td>\n",
       "      <td>14, Sector 19, Pocket 3, Sector 11 Dwarka, Dwa...</td>\n",
       "      <td>{'lat': 28.5869021, 'lng': 77.04928579999999}</td>\n",
       "      <td>5</td>\n",
       "      <td>Peripheral Rd, Shankar Vihar, New Delhi, Delhi...</td>\n",
       "      <td>{'lat': 28.5618426, 'lng': 77.1359628}</td>\n",
       "      <td>[]</td>\n",
       "      <td>346</td>\n",
       "      <td>485</td>\n",
       "      <td>1492528500</td>\n",
       "      <td>211.355736</td>\n",
       "    </tr>\n",
       "    <tr>\n",
       "      <th>630061</th>\n",
       "      <td>485_461_2_15_15</td>\n",
       "      <td>14556</td>\n",
       "      <td>1836</td>\n",
       "      <td>3788</td>\n",
       "      <td>V-280, Block V, Rajouri Garden, New Delhi, Del...</td>\n",
       "      <td>{'lat': 28.6396454, 'lng': 77.11844289999999}</td>\n",
       "      <td>6</td>\n",
       "      <td>Peripheral Rd, Shankar Vihar, New Delhi, Delhi...</td>\n",
       "      <td>{'lat': 28.5618426, 'lng': 77.1359628}</td>\n",
       "      <td>[]</td>\n",
       "      <td>461</td>\n",
       "      <td>485</td>\n",
       "      <td>1492528500</td>\n",
       "      <td>206.318083</td>\n",
       "    </tr>\n",
       "    <tr>\n",
       "      <th>630066</th>\n",
       "      <td>485_320_2_15_15</td>\n",
       "      <td>15435</td>\n",
       "      <td>1948</td>\n",
       "      <td>4028</td>\n",
       "      <td>E-300 A-1, Bajaj Enclave, Sector 15 Dwarka, Dw...</td>\n",
       "      <td>{'lat': 28.6134219, 'lng': 77.03220189999999}</td>\n",
       "      <td>6</td>\n",
       "      <td>Peripheral Rd, Shankar Vihar, New Delhi, Delhi...</td>\n",
       "      <td>{'lat': 28.5618426, 'lng': 77.1359628}</td>\n",
       "      <td>[]</td>\n",
       "      <td>320</td>\n",
       "      <td>485</td>\n",
       "      <td>1492528500</td>\n",
       "      <td>206.776181</td>\n",
       "    </tr>\n",
       "    <tr>\n",
       "      <th>630089</th>\n",
       "      <td>485_462_2_15_15</td>\n",
       "      <td>15687</td>\n",
       "      <td>1899</td>\n",
       "      <td>3959</td>\n",
       "      <td>GA 10, Vishal Cinema Rd, Pocket GA, Basai Dara...</td>\n",
       "      <td>{'lat': 28.6571857, 'lng': 77.11839599999999}</td>\n",
       "      <td>7</td>\n",
       "      <td>Peripheral Rd, Shankar Vihar, New Delhi, Delhi...</td>\n",
       "      <td>{'lat': 28.5618426, 'lng': 77.1359628}</td>\n",
       "      <td>[]</td>\n",
       "      <td>462</td>\n",
       "      <td>485</td>\n",
       "      <td>1492528500</td>\n",
       "      <td>208.478146</td>\n",
       "    </tr>\n",
       "    <tr>\n",
       "      <th>630098</th>\n",
       "      <td>485_292_2_15_15</td>\n",
       "      <td>17857</td>\n",
       "      <td>2355</td>\n",
       "      <td>4726</td>\n",
       "      <td>Street Number 2, Nangli Vihar, Nangli Vihar Ex...</td>\n",
       "      <td>{'lat': 28.6221378, 'lng': 77.0149695}</td>\n",
       "      <td>7</td>\n",
       "      <td>Peripheral Rd, Shankar Vihar, New Delhi, Delhi...</td>\n",
       "      <td>{'lat': 28.5618426, 'lng': 77.1359628}</td>\n",
       "      <td>[]</td>\n",
       "      <td>292</td>\n",
       "      <td>485</td>\n",
       "      <td>1492528500</td>\n",
       "      <td>200.679406</td>\n",
       "    </tr>\n",
       "    <tr>\n",
       "      <th>630123</th>\n",
       "      <td>485_491_2_15_15</td>\n",
       "      <td>16892</td>\n",
       "      <td>1884</td>\n",
       "      <td>3903</td>\n",
       "      <td>20/18, Ring Rd, Punjabi Bagh East, Punjabi Bag...</td>\n",
       "      <td>{'lat': 28.6665828, 'lng': 77.1349882}</td>\n",
       "      <td>8</td>\n",
       "      <td>Peripheral Rd, Shankar Vihar, New Delhi, Delhi...</td>\n",
       "      <td>{'lat': 28.5618426, 'lng': 77.1359628}</td>\n",
       "      <td>[]</td>\n",
       "      <td>491</td>\n",
       "      <td>485</td>\n",
       "      <td>1492528500</td>\n",
       "      <td>207.165605</td>\n",
       "    </tr>\n",
       "    <tr>\n",
       "      <th>630222</th>\n",
       "      <td>486_459_2_15_15</td>\n",
       "      <td>8357</td>\n",
       "      <td>1160</td>\n",
       "      <td>2428</td>\n",
       "      <td>90, Pankha Rd, Old Nangal, Block WZ, Nangal Ra...</td>\n",
       "      <td>{'lat': 28.6046343, 'lng': 77.118481}</td>\n",
       "      <td>2</td>\n",
       "      <td>Latif Rd, Parade Ground, Delhi Cantonment, New...</td>\n",
       "      <td>{'lat': 28.5782218, 'lng': 77.1357347}</td>\n",
       "      <td>[]</td>\n",
       "      <td>459</td>\n",
       "      <td>486</td>\n",
       "      <td>1492528500</td>\n",
       "      <td>209.310345</td>\n",
       "    </tr>\n",
       "    <tr>\n",
       "      <th>630224</th>\n",
       "      <td>486_430_2_15_15</td>\n",
       "      <td>9370</td>\n",
       "      <td>1078</td>\n",
       "      <td>2174</td>\n",
       "      <td>Palam Rd, Prahladpur, Delhi Cantonment, New De...</td>\n",
       "      <td>{'lat': 28.5783429, 'lng': 77.1011889}</td>\n",
       "      <td>2</td>\n",
       "      <td>Latif Rd, Parade Ground, Delhi Cantonment, New...</td>\n",
       "      <td>{'lat': 28.5782218, 'lng': 77.1357347}</td>\n",
       "      <td>[]</td>\n",
       "      <td>430</td>\n",
       "      <td>486</td>\n",
       "      <td>1492528500</td>\n",
       "      <td>201.669759</td>\n",
       "    </tr>\n",
       "    <tr>\n",
       "      <th>630231</th>\n",
       "      <td>486_543_2_15_15</td>\n",
       "      <td>7201</td>\n",
       "      <td>993</td>\n",
       "      <td>2028</td>\n",
       "      <td>Sardar Patel Marg, IB Colony, Chanakyapuri, Ne...</td>\n",
       "      <td>{'lat': 28.5962629, 'lng': 77.16989889999999}</td>\n",
       "      <td>2</td>\n",
       "      <td>Latif Rd, Parade Ground, Delhi Cantonment, New...</td>\n",
       "      <td>{'lat': 28.5782218, 'lng': 77.1357347}</td>\n",
       "      <td>[]</td>\n",
       "      <td>543</td>\n",
       "      <td>486</td>\n",
       "      <td>1492528500</td>\n",
       "      <td>204.229607</td>\n",
       "    </tr>\n",
       "    <tr>\n",
       "      <th>630232</th>\n",
       "      <td>486_432_2_15_15</td>\n",
       "      <td>10926</td>\n",
       "      <td>1640</td>\n",
       "      <td>3373</td>\n",
       "      <td>Dada Satram Mamtani Marg, Tihar Central Jail, ...</td>\n",
       "      <td>{'lat': 28.6132042, 'lng': 77.1008458}</td>\n",
       "      <td>3</td>\n",
       "      <td>Latif Rd, Parade Ground, Delhi Cantonment, New...</td>\n",
       "      <td>{'lat': 28.5782218, 'lng': 77.1357347}</td>\n",
       "      <td>[]</td>\n",
       "      <td>432</td>\n",
       "      <td>486</td>\n",
       "      <td>1492528500</td>\n",
       "      <td>205.670732</td>\n",
       "    </tr>\n",
       "    <tr>\n",
       "      <th>630234</th>\n",
       "      <td>486_402_2_15_15</td>\n",
       "      <td>12752</td>\n",
       "      <td>1538</td>\n",
       "      <td>3293</td>\n",
       "      <td>RZ-7B/11, Street Number 11, Sainipura, Block R...</td>\n",
       "      <td>{'lat': 28.5872098, 'lng': 77.0838443}</td>\n",
       "      <td>3</td>\n",
       "      <td>Latif Rd, Parade Ground, Delhi Cantonment, New...</td>\n",
       "      <td>{'lat': 28.5782218, 'lng': 77.1357347}</td>\n",
       "      <td>[]</td>\n",
       "      <td>402</td>\n",
       "      <td>486</td>\n",
       "      <td>1492528500</td>\n",
       "      <td>214.109233</td>\n",
       "    </tr>\n",
       "    <tr>\n",
       "      <th>630248</th>\n",
       "      <td>486_375_2_15_15</td>\n",
       "      <td>14166</td>\n",
       "      <td>1553</td>\n",
       "      <td>3425</td>\n",
       "      <td>Rd Number 201, Sector 6 Dwarka, Dwarka, New De...</td>\n",
       "      <td>{'lat': 28.5958183, 'lng': 77.0667617}</td>\n",
       "      <td>4</td>\n",
       "      <td>Latif Rd, Parade Ground, Delhi Cantonment, New...</td>\n",
       "      <td>{'lat': 28.5782218, 'lng': 77.1357347}</td>\n",
       "      <td>[]</td>\n",
       "      <td>375</td>\n",
       "      <td>486</td>\n",
       "      <td>1492528500</td>\n",
       "      <td>220.540889</td>\n",
       "    </tr>\n",
       "    <tr>\n",
       "      <th>630249</th>\n",
       "      <td>486_374_2_15_15</td>\n",
       "      <td>15760</td>\n",
       "      <td>1762</td>\n",
       "      <td>3686</td>\n",
       "      <td>45 TO 52, Pocket 2, Dwarka Sector 9, Dwarka, N...</td>\n",
       "      <td>{'lat': 28.5783557, 'lng': 77.06670799999999}</td>\n",
       "      <td>4</td>\n",
       "      <td>Latif Rd, Parade Ground, Delhi Cantonment, New...</td>\n",
       "      <td>{'lat': 28.5782218, 'lng': 77.1357347}</td>\n",
       "      <td>[]</td>\n",
       "      <td>374</td>\n",
       "      <td>486</td>\n",
       "      <td>1492528500</td>\n",
       "      <td>209.194098</td>\n",
       "    </tr>\n",
       "    <tr>\n",
       "      <th>630265</th>\n",
       "      <td>486_405_2_15_15</td>\n",
       "      <td>13703</td>\n",
       "      <td>2192</td>\n",
       "      <td>4391</td>\n",
       "      <td>D1029, Krishna Puri, Krishna Park, Krishna Par...</td>\n",
       "      <td>{'lat': 28.6397214, 'lng': 77.0840157}</td>\n",
       "      <td>5</td>\n",
       "      <td>Latif Rd, Parade Ground, Delhi Cantonment, New...</td>\n",
       "      <td>{'lat': 28.5782218, 'lng': 77.1357347}</td>\n",
       "      <td>[]</td>\n",
       "      <td>405</td>\n",
       "      <td>486</td>\n",
       "      <td>1492528500</td>\n",
       "      <td>200.319343</td>\n",
       "    </tr>\n",
       "    <tr>\n",
       "      <th>630266</th>\n",
       "      <td>486_461_2_15_15</td>\n",
       "      <td>12581</td>\n",
       "      <td>1601</td>\n",
       "      <td>3519</td>\n",
       "      <td>V-280, Block V, Rajouri Garden, New Delhi, Del...</td>\n",
       "      <td>{'lat': 28.6396454, 'lng': 77.11844289999999}</td>\n",
       "      <td>5</td>\n",
       "      <td>Latif Rd, Parade Ground, Delhi Cantonment, New...</td>\n",
       "      <td>{'lat': 28.5782218, 'lng': 77.1357347}</td>\n",
       "      <td>[]</td>\n",
       "      <td>461</td>\n",
       "      <td>486</td>\n",
       "      <td>1492528500</td>\n",
       "      <td>219.800125</td>\n",
       "    </tr>\n",
       "    <tr>\n",
       "      <th>630269</th>\n",
       "      <td>486_347_2_15_15</td>\n",
       "      <td>15390</td>\n",
       "      <td>1766</td>\n",
       "      <td>3773</td>\n",
       "      <td>Rd Number 201, Sector 4, Dwarka, Delhi, 110078...</td>\n",
       "      <td>{'lat': 28.6050526, 'lng': 77.0493996}</td>\n",
       "      <td>5</td>\n",
       "      <td>Latif Rd, Parade Ground, Delhi Cantonment, New...</td>\n",
       "      <td>{'lat': 28.5782218, 'lng': 77.1357347}</td>\n",
       "      <td>[]</td>\n",
       "      <td>347</td>\n",
       "      <td>486</td>\n",
       "      <td>1492528500</td>\n",
       "      <td>213.646659</td>\n",
       "    </tr>\n",
       "    <tr>\n",
       "      <th>630270</th>\n",
       "      <td>486_346_2_15_15</td>\n",
       "      <td>16077</td>\n",
       "      <td>1881</td>\n",
       "      <td>3915</td>\n",
       "      <td>14, Sector 19, Pocket 3, Sector 11 Dwarka, Dwa...</td>\n",
       "      <td>{'lat': 28.5869021, 'lng': 77.04928579999999}</td>\n",
       "      <td>5</td>\n",
       "      <td>Latif Rd, Parade Ground, Delhi Cantonment, New...</td>\n",
       "      <td>{'lat': 28.5782218, 'lng': 77.1357347}</td>\n",
       "      <td>[]</td>\n",
       "      <td>346</td>\n",
       "      <td>486</td>\n",
       "      <td>1492528500</td>\n",
       "      <td>208.133971</td>\n",
       "    </tr>\n",
       "    <tr>\n",
       "      <th>630271</th>\n",
       "      <td>486_345_2_15_15</td>\n",
       "      <td>16833</td>\n",
       "      <td>1920</td>\n",
       "      <td>3953</td>\n",
       "      <td>Dabri - Gurgaon Rd, Sector 23, Dwarka, Delhi, ...</td>\n",
       "      <td>{'lat': 28.5687848, 'lng': 77.0504399}</td>\n",
       "      <td>5</td>\n",
       "      <td>Latif Rd, Parade Ground, Delhi Cantonment, New...</td>\n",
       "      <td>{'lat': 28.5782218, 'lng': 77.1357347}</td>\n",
       "      <td>[]</td>\n",
       "      <td>345</td>\n",
       "      <td>486</td>\n",
       "      <td>1492528500</td>\n",
       "      <td>205.885417</td>\n",
       "    </tr>\n",
       "    <tr>\n",
       "      <th>630292</th>\n",
       "      <td>486_462_2_15_15</td>\n",
       "      <td>13712</td>\n",
       "      <td>1664</td>\n",
       "      <td>3690</td>\n",
       "      <td>GA 10, Vishal Cinema Rd, Pocket GA, Basai Dara...</td>\n",
       "      <td>{'lat': 28.6571857, 'lng': 77.11839599999999}</td>\n",
       "      <td>6</td>\n",
       "      <td>Latif Rd, Parade Ground, Delhi Cantonment, New...</td>\n",
       "      <td>{'lat': 28.5782218, 'lng': 77.1357347}</td>\n",
       "      <td>[]</td>\n",
       "      <td>462</td>\n",
       "      <td>486</td>\n",
       "      <td>1492528500</td>\n",
       "      <td>221.754808</td>\n",
       "    </tr>\n",
       "    <tr>\n",
       "      <th>630294</th>\n",
       "      <td>486_490_2_15_15</td>\n",
       "      <td>12667</td>\n",
       "      <td>1721</td>\n",
       "      <td>3626</td>\n",
       "      <td>3/31, Block 3, Ramesh Nagar, New Delhi, Delhi ...</td>\n",
       "      <td>{'lat': 28.6484369, 'lng': 77.13575399999999}</td>\n",
       "      <td>6</td>\n",
       "      <td>Latif Rd, Parade Ground, Delhi Cantonment, New...</td>\n",
       "      <td>{'lat': 28.5782218, 'lng': 77.1357347}</td>\n",
       "      <td>[]</td>\n",
       "      <td>490</td>\n",
       "      <td>486</td>\n",
       "      <td>1492528500</td>\n",
       "      <td>210.691458</td>\n",
       "    </tr>\n",
       "    <tr>\n",
       "      <th>630297</th>\n",
       "      <td>486_320_2_15_15</td>\n",
       "      <td>17959</td>\n",
       "      <td>2103</td>\n",
       "      <td>4305</td>\n",
       "      <td>E-300 A-1, Bajaj Enclave, Sector 15 Dwarka, Dw...</td>\n",
       "      <td>{'lat': 28.6134219, 'lng': 77.03220189999999}</td>\n",
       "      <td>6</td>\n",
       "      <td>Latif Rd, Parade Ground, Delhi Cantonment, New...</td>\n",
       "      <td>{'lat': 28.5782218, 'lng': 77.1357347}</td>\n",
       "      <td>[]</td>\n",
       "      <td>320</td>\n",
       "      <td>486</td>\n",
       "      <td>1492528500</td>\n",
       "      <td>204.707561</td>\n",
       "    </tr>\n",
       "    <tr>\n",
       "      <th>630324</th>\n",
       "      <td>486_463_2_15_15</td>\n",
       "      <td>16973</td>\n",
       "      <td>1993</td>\n",
       "      <td>4062</td>\n",
       "      <td>713B, Vishnu Mandir Marg, Madipur JJ Colony, B...</td>\n",
       "      <td>{'lat': 28.6746931, 'lng': 77.1184361}</td>\n",
       "      <td>7</td>\n",
       "      <td>Latif Rd, Parade Ground, Delhi Cantonment, New...</td>\n",
       "      <td>{'lat': 28.5782218, 'lng': 77.1357347}</td>\n",
       "      <td>[]</td>\n",
       "      <td>463</td>\n",
       "      <td>486</td>\n",
       "      <td>1492528500</td>\n",
       "      <td>203.813347</td>\n",
       "    </tr>\n",
       "    <tr>\n",
       "      <th>630326</th>\n",
       "      <td>486_491_2_15_15</td>\n",
       "      <td>14917</td>\n",
       "      <td>1649</td>\n",
       "      <td>3633</td>\n",
       "      <td>20/18, Ring Rd, Punjabi Bagh East, Punjabi Bag...</td>\n",
       "      <td>{'lat': 28.6665828, 'lng': 77.1349882}</td>\n",
       "      <td>7</td>\n",
       "      <td>Latif Rd, Parade Ground, Delhi Cantonment, New...</td>\n",
       "      <td>{'lat': 28.5782218, 'lng': 77.1357347}</td>\n",
       "      <td>[]</td>\n",
       "      <td>491</td>\n",
       "      <td>486</td>\n",
       "      <td>1492528500</td>\n",
       "      <td>220.315343</td>\n",
       "    </tr>\n",
       "    <tr>\n",
       "      <th>630364</th>\n",
       "      <td>486_492_2_15_15</td>\n",
       "      <td>17471</td>\n",
       "      <td>2145</td>\n",
       "      <td>4316</td>\n",
       "      <td>3401/A, Guru Harkishan Marg, Multani Mohalla, ...</td>\n",
       "      <td>{'lat': 28.68342209999999, 'lng': 77.1357098}</td>\n",
       "      <td>8</td>\n",
       "      <td>Latif Rd, Parade Ground, Delhi Cantonment, New...</td>\n",
       "      <td>{'lat': 28.5782218, 'lng': 77.1357347}</td>\n",
       "      <td>[]</td>\n",
       "      <td>492</td>\n",
       "      <td>486</td>\n",
       "      <td>1492528500</td>\n",
       "      <td>201.212121</td>\n",
       "    </tr>\n",
       "    <tr>\n",
       "      <th>630403</th>\n",
       "      <td>486_520_2_15_15</td>\n",
       "      <td>18130</td>\n",
       "      <td>1944</td>\n",
       "      <td>4014</td>\n",
       "      <td>709-710, Netaji Subash Place, Wazirpur, Delhi,...</td>\n",
       "      <td>{'lat': 28.6922229, 'lng': 77.1528941}</td>\n",
       "      <td>9</td>\n",
       "      <td>Latif Rd, Parade Ground, Delhi Cantonment, New...</td>\n",
       "      <td>{'lat': 28.5782218, 'lng': 77.1357347}</td>\n",
       "      <td>[]</td>\n",
       "      <td>520</td>\n",
       "      <td>486</td>\n",
       "      <td>1492528500</td>\n",
       "      <td>206.481481</td>\n",
       "    </tr>\n",
       "  </tbody>\n",
       "</table>\n",
       "<p>14963 rows × 14 columns</p>\n",
       "</div>"
      ],
      "text/plain": [
       "                    _id   dist   dur  durTr  \\\n",
       "102072    317_427_1_0_0  12569  1167   2426   \n",
       "105385    344_372_1_0_0   3708   454   1000   \n",
       "105409    344_398_1_0_0   7739  1029   2157   \n",
       "105410    344_427_1_0_0  10913  1008   2140   \n",
       "105457    344_452_1_0_0  15332  1779   3623   \n",
       "105458    344_481_1_0_0  17306  1924   3878   \n",
       "105476    344_424_1_0_0  14986  1865   3745   \n",
       "105501    344_450_1_0_0  18378  2051   4123   \n",
       "105622    345_427_1_0_0  13251  1213   2446   \n",
       "106313    348_513_1_0_0  18866  2644   5523   \n",
       "109619    374_513_1_0_0  13698  1726   3549   \n",
       "109642    374_541_1_0_0  14834  1904   3831   \n",
       "109643    374_542_1_0_0  14172  1799   3690   \n",
       "109666    374_569_1_0_0  16400  2078   4171   \n",
       "109667    374_570_1_0_0  16271  2007   4041   \n",
       "109823    375_485_1_0_0   9513  1084   2278   \n",
       "109824    375_486_1_0_0   9528  1086   2229   \n",
       "109841    375_427_1_0_0  14312  1272   3149   \n",
       "109845    375_513_1_0_0  11854  1399   3011   \n",
       "109869    375_541_1_0_0  12990  1577   3319   \n",
       "109870    375_542_1_0_0  12328  1472   3147   \n",
       "109896    375_567_1_0_0  17052  2062   4142   \n",
       "109897    375_568_1_0_0  15418  1763   3642   \n",
       "109898    375_569_1_0_0  14556  1751   3632   \n",
       "109899    375_570_1_0_0  14427  1680   3504   \n",
       "110101    376_427_1_0_0  16251  1779   3720   \n",
       "110311    377_486_1_0_0  15467  2088   4309   \n",
       "110338    377_485_1_0_0  15452  2086   4285   \n",
       "110339    377_513_1_0_0  17793  2401   5290   \n",
       "110368    377_427_1_0_0  20251  2274   4985   \n",
       "...                 ...    ...   ...    ...   \n",
       "629993  485_430_2_15_15   6846   924   1878   \n",
       "630004  485_402_2_15_15  10228  1383   2993   \n",
       "630017  485_403_2_15_15  10998  1594   3355   \n",
       "630019  485_375_2_15_15  11642  1398   3128   \n",
       "630040  485_347_2_15_15  12866  1611   3492   \n",
       "630041  485_346_2_15_15  13553  1726   3648   \n",
       "630061  485_461_2_15_15  14556  1836   3788   \n",
       "630066  485_320_2_15_15  15435  1948   4028   \n",
       "630089  485_462_2_15_15  15687  1899   3959   \n",
       "630098  485_292_2_15_15  17857  2355   4726   \n",
       "630123  485_491_2_15_15  16892  1884   3903   \n",
       "630222  486_459_2_15_15   8357  1160   2428   \n",
       "630224  486_430_2_15_15   9370  1078   2174   \n",
       "630231  486_543_2_15_15   7201   993   2028   \n",
       "630232  486_432_2_15_15  10926  1640   3373   \n",
       "630234  486_402_2_15_15  12752  1538   3293   \n",
       "630248  486_375_2_15_15  14166  1553   3425   \n",
       "630249  486_374_2_15_15  15760  1762   3686   \n",
       "630265  486_405_2_15_15  13703  2192   4391   \n",
       "630266  486_461_2_15_15  12581  1601   3519   \n",
       "630269  486_347_2_15_15  15390  1766   3773   \n",
       "630270  486_346_2_15_15  16077  1881   3915   \n",
       "630271  486_345_2_15_15  16833  1920   3953   \n",
       "630292  486_462_2_15_15  13712  1664   3690   \n",
       "630294  486_490_2_15_15  12667  1721   3626   \n",
       "630297  486_320_2_15_15  17959  2103   4305   \n",
       "630324  486_463_2_15_15  16973  1993   4062   \n",
       "630326  486_491_2_15_15  14917  1649   3633   \n",
       "630364  486_492_2_15_15  17471  2145   4316   \n",
       "630403  486_520_2_15_15  18130  1944   4014   \n",
       "\n",
       "                                                    enAdd  \\\n",
       "102072  Gurgaon - Delhi Expy, Yawantika Colony, Samalk...   \n",
       "105385   UER II, Bharthal, New Delhi, Delhi 110037, India   \n",
       "105409  108, Old Delhi Gurgaon Rd, Udyog Vihar, Udyog ...   \n",
       "105410  Gurgaon - Delhi Expy, Yawantika Colony, Samalk...   \n",
       "105457  Acharya Shree Tulsi Marg, Arjan Garh, Aya Naga...   \n",
       "105458  356, Acharya Shree Tulsi Marg, Ghitorni, New D...   \n",
       "105476  A 1/10, Deodar Marg, Block A, Sector 26A, Guru...   \n",
       "105501  Unnamed Road, DLF Phase 5, Sector 54, Gurugram...   \n",
       "105622  Gurgaon - Delhi Expy, Yawantika Colony, Samalk...   \n",
       "106313  102, Anuj Vihar, Delhi Cantonment, Delhi, 1100...   \n",
       "109619  102, Anuj Vihar, Delhi Cantonment, Delhi, 1100...   \n",
       "109642  827V, Sector 5, RK Puram, New Delhi, Delhi 110...   \n",
       "109643  22, Rd Number 4, Sector 4, Moti Bagh, New Delh...   \n",
       "109666  FFS-14, Mahatma Gandhi Rd, Bhikaji Cama Place,...   \n",
       "109667  50-M, Satya Marg, Chanakyapuri, New Delhi, Del...   \n",
       "109823  Peripheral Rd, Shankar Vihar, New Delhi, Delhi...   \n",
       "109824  Latif Rd, Parade Ground, Delhi Cantonment, New...   \n",
       "109841  Gurgaon - Delhi Expy, Yawantika Colony, Samalk...   \n",
       "109845  102, Anuj Vihar, Delhi Cantonment, Delhi, 1100...   \n",
       "109869  827V, Sector 5, RK Puram, New Delhi, Delhi 110...   \n",
       "109870  22, Rd Number 4, Sector 4, Moti Bagh, New Delh...   \n",
       "109896  C-6, Qutab Institutional Area, Block C, Qutab ...   \n",
       "109897  Africa Ave, Sector 3, RK Puram, New Delhi, Del...   \n",
       "109898  FFS-14, Mahatma Gandhi Rd, Bhikaji Cama Place,...   \n",
       "109899  50-M, Satya Marg, Chanakyapuri, New Delhi, Del...   \n",
       "110101  Gurgaon - Delhi Expy, Yawantika Colony, Samalk...   \n",
       "110311  Latif Rd, Parade Ground, Delhi Cantonment, New...   \n",
       "110338  Peripheral Rd, Shankar Vihar, New Delhi, Delhi...   \n",
       "110339  102, Anuj Vihar, Delhi Cantonment, Delhi, 1100...   \n",
       "110368  Gurgaon - Delhi Expy, Yawantika Colony, Samalk...   \n",
       "...                                                   ...   \n",
       "629993  Palam Rd, Prahladpur, Delhi Cantonment, New De...   \n",
       "630004  RZ-7B/11, Street Number 11, Sainipura, Block R...   \n",
       "630017  D-64-A, Street No-8, Block B, Dashrath Puri, N...   \n",
       "630019  Rd Number 201, Sector 6 Dwarka, Dwarka, New De...   \n",
       "630040  Rd Number 201, Sector 4, Dwarka, Delhi, 110078...   \n",
       "630041  14, Sector 19, Pocket 3, Sector 11 Dwarka, Dwa...   \n",
       "630061  V-280, Block V, Rajouri Garden, New Delhi, Del...   \n",
       "630066  E-300 A-1, Bajaj Enclave, Sector 15 Dwarka, Dw...   \n",
       "630089  GA 10, Vishal Cinema Rd, Pocket GA, Basai Dara...   \n",
       "630098  Street Number 2, Nangli Vihar, Nangli Vihar Ex...   \n",
       "630123  20/18, Ring Rd, Punjabi Bagh East, Punjabi Bag...   \n",
       "630222  90, Pankha Rd, Old Nangal, Block WZ, Nangal Ra...   \n",
       "630224  Palam Rd, Prahladpur, Delhi Cantonment, New De...   \n",
       "630231  Sardar Patel Marg, IB Colony, Chanakyapuri, Ne...   \n",
       "630232  Dada Satram Mamtani Marg, Tihar Central Jail, ...   \n",
       "630234  RZ-7B/11, Street Number 11, Sainipura, Block R...   \n",
       "630248  Rd Number 201, Sector 6 Dwarka, Dwarka, New De...   \n",
       "630249  45 TO 52, Pocket 2, Dwarka Sector 9, Dwarka, N...   \n",
       "630265  D1029, Krishna Puri, Krishna Park, Krishna Par...   \n",
       "630266  V-280, Block V, Rajouri Garden, New Delhi, Del...   \n",
       "630269  Rd Number 201, Sector 4, Dwarka, Delhi, 110078...   \n",
       "630270  14, Sector 19, Pocket 3, Sector 11 Dwarka, Dwa...   \n",
       "630271  Dabri - Gurgaon Rd, Sector 23, Dwarka, Delhi, ...   \n",
       "630292  GA 10, Vishal Cinema Rd, Pocket GA, Basai Dara...   \n",
       "630294  3/31, Block 3, Ramesh Nagar, New Delhi, Delhi ...   \n",
       "630297  E-300 A-1, Bajaj Enclave, Sector 15 Dwarka, Dw...   \n",
       "630324  713B, Vishnu Mandir Marg, Madipur JJ Colony, B...   \n",
       "630326  20/18, Ring Rd, Punjabi Bagh East, Punjabi Bag...   \n",
       "630364  3401/A, Guru Harkishan Marg, Multani Mohalla, ...   \n",
       "630403  709-710, Netaji Subash Place, Wazirpur, Delhi,...   \n",
       "\n",
       "                                                enLoc  neDist  \\\n",
       "102072         {'lat': 28.5258084, 'lng': 77.1011511}       4   \n",
       "105385         {'lat': 28.5437084, 'lng': 77.0668156}       1   \n",
       "105409         {'lat': 28.5167569, 'lng': 77.0838481}       3   \n",
       "105410         {'lat': 28.5258084, 'lng': 77.1011511}       3   \n",
       "105457          {'lat': 28.4814126, 'lng': 77.119063}       6   \n",
       "105458         {'lat': 28.4907417, 'lng': 77.1365891}       6   \n",
       "105476          {'lat': 28.473086, 'lng': 77.1010319}       7   \n",
       "105501         {'lat': 28.4490204, 'lng': 77.1183346}       8   \n",
       "105622         {'lat': 28.5258084, 'lng': 77.1011511}       4   \n",
       "106313         {'lat': 28.5699258, 'lng': 77.1528263}       6   \n",
       "109619         {'lat': 28.5699258, 'lng': 77.1528263}       5   \n",
       "109642  {'lat': 28.5608323, 'lng': 77.17017299999999}       6   \n",
       "109643         {'lat': 28.5782425, 'lng': 77.1702363}       6   \n",
       "109666         {'lat': 28.5695504, 'lng': 77.1874266}       7   \n",
       "109667         {'lat': 28.5872222, 'lng': 77.1871558}       7   \n",
       "109823         {'lat': 28.5618426, 'lng': 77.1359628}       4   \n",
       "109824         {'lat': 28.5782218, 'lng': 77.1357347}       4   \n",
       "109841         {'lat': 28.5258084, 'lng': 77.1011511}       5   \n",
       "109845         {'lat': 28.5699258, 'lng': 77.1528263}       5   \n",
       "109869  {'lat': 28.5608323, 'lng': 77.17017299999999}       6   \n",
       "109870         {'lat': 28.5782425, 'lng': 77.1702363}       6   \n",
       "109896         {'lat': 28.5360679, 'lng': 77.1887551}       7   \n",
       "109897         {'lat': 28.5526844, 'lng': 77.1852469}       7   \n",
       "109898         {'lat': 28.5695504, 'lng': 77.1874266}       7   \n",
       "109899         {'lat': 28.5872222, 'lng': 77.1871558}       7   \n",
       "110101         {'lat': 28.5258084, 'lng': 77.1011511}       6   \n",
       "110311         {'lat': 28.5782218, 'lng': 77.1357347}       5   \n",
       "110338         {'lat': 28.5618426, 'lng': 77.1359628}       6   \n",
       "110339         {'lat': 28.5699258, 'lng': 77.1528263}       6   \n",
       "110368         {'lat': 28.5258084, 'lng': 77.1011511}       7   \n",
       "...                                               ...     ...   \n",
       "629993         {'lat': 28.5783429, 'lng': 77.1011889}       2   \n",
       "630004         {'lat': 28.5872098, 'lng': 77.0838443}       3   \n",
       "630017  {'lat': 28.6046444, 'lng': 77.08395840000001}       4   \n",
       "630019         {'lat': 28.5958183, 'lng': 77.0667617}       4   \n",
       "630040         {'lat': 28.6050526, 'lng': 77.0493996}       5   \n",
       "630041  {'lat': 28.5869021, 'lng': 77.04928579999999}       5   \n",
       "630061  {'lat': 28.6396454, 'lng': 77.11844289999999}       6   \n",
       "630066  {'lat': 28.6134219, 'lng': 77.03220189999999}       6   \n",
       "630089  {'lat': 28.6571857, 'lng': 77.11839599999999}       7   \n",
       "630098         {'lat': 28.6221378, 'lng': 77.0149695}       7   \n",
       "630123         {'lat': 28.6665828, 'lng': 77.1349882}       8   \n",
       "630222          {'lat': 28.6046343, 'lng': 77.118481}       2   \n",
       "630224         {'lat': 28.5783429, 'lng': 77.1011889}       2   \n",
       "630231  {'lat': 28.5962629, 'lng': 77.16989889999999}       2   \n",
       "630232         {'lat': 28.6132042, 'lng': 77.1008458}       3   \n",
       "630234         {'lat': 28.5872098, 'lng': 77.0838443}       3   \n",
       "630248         {'lat': 28.5958183, 'lng': 77.0667617}       4   \n",
       "630249  {'lat': 28.5783557, 'lng': 77.06670799999999}       4   \n",
       "630265         {'lat': 28.6397214, 'lng': 77.0840157}       5   \n",
       "630266  {'lat': 28.6396454, 'lng': 77.11844289999999}       5   \n",
       "630269         {'lat': 28.6050526, 'lng': 77.0493996}       5   \n",
       "630270  {'lat': 28.5869021, 'lng': 77.04928579999999}       5   \n",
       "630271         {'lat': 28.5687848, 'lng': 77.0504399}       5   \n",
       "630292  {'lat': 28.6571857, 'lng': 77.11839599999999}       6   \n",
       "630294  {'lat': 28.6484369, 'lng': 77.13575399999999}       6   \n",
       "630297  {'lat': 28.6134219, 'lng': 77.03220189999999}       6   \n",
       "630324         {'lat': 28.6746931, 'lng': 77.1184361}       7   \n",
       "630326         {'lat': 28.6665828, 'lng': 77.1349882}       7   \n",
       "630364  {'lat': 28.68342209999999, 'lng': 77.1357098}       8   \n",
       "630403         {'lat': 28.6922229, 'lng': 77.1528941}       9   \n",
       "\n",
       "                                                    stAdd  \\\n",
       "102072  10, UER II, Sector 24 Dwarka, Dwarka, Delhi, 1...   \n",
       "105385  UER II, Sector 25 Dwarka, Dwarka, New Delhi, D...   \n",
       "105409  UER II, Sector 25 Dwarka, Dwarka, New Delhi, D...   \n",
       "105410  UER II, Sector 25 Dwarka, Dwarka, New Delhi, D...   \n",
       "105457  UER II, Sector 25 Dwarka, Dwarka, New Delhi, D...   \n",
       "105458  UER II, Sector 25 Dwarka, Dwarka, New Delhi, D...   \n",
       "105476  UER II, Sector 25 Dwarka, Dwarka, New Delhi, D...   \n",
       "105501  UER II, Sector 25 Dwarka, Dwarka, New Delhi, D...   \n",
       "105622  Dabri - Gurgaon Rd, Sector 23, Dwarka, Delhi, ...   \n",
       "106313  Galli Number 12, Phase 2, Om Vihar, Nawada, De...   \n",
       "109619  45 TO 52, Pocket 2, Dwarka Sector 9, Dwarka, N...   \n",
       "109642  45 TO 52, Pocket 2, Dwarka Sector 9, Dwarka, N...   \n",
       "109643  45 TO 52, Pocket 2, Dwarka Sector 9, Dwarka, N...   \n",
       "109666  45 TO 52, Pocket 2, Dwarka Sector 9, Dwarka, N...   \n",
       "109667  45 TO 52, Pocket 2, Dwarka Sector 9, Dwarka, N...   \n",
       "109823  Rd Number 201, Sector 6 Dwarka, Dwarka, New De...   \n",
       "109824  Rd Number 201, Sector 6 Dwarka, Dwarka, New De...   \n",
       "109841  Rd Number 201, Sector 6 Dwarka, Dwarka, New De...   \n",
       "109845  Rd Number 201, Sector 6 Dwarka, Dwarka, New De...   \n",
       "109869  Rd Number 201, Sector 6 Dwarka, Dwarka, New De...   \n",
       "109870  Rd Number 201, Sector 6 Dwarka, Dwarka, New De...   \n",
       "109896  Rd Number 201, Sector 6 Dwarka, Dwarka, New De...   \n",
       "109897  Rd Number 201, Sector 6 Dwarka, Dwarka, New De...   \n",
       "109898  Rd Number 201, Sector 6 Dwarka, Dwarka, New De...   \n",
       "109899  Rd Number 201, Sector 6 Dwarka, Dwarka, New De...   \n",
       "110101  5, Bindapur Matiala Rd, Parjapat Colony, Binda...   \n",
       "110311    A-253, A-Block, Vikaspuri, Delhi, 110018, India   \n",
       "110338    A-253, A-Block, Vikaspuri, Delhi, 110018, India   \n",
       "110339    A-253, A-Block, Vikaspuri, Delhi, 110018, India   \n",
       "110368    A-253, A-Block, Vikaspuri, Delhi, 110018, India   \n",
       "...                                                   ...   \n",
       "629993  Peripheral Rd, Shankar Vihar, New Delhi, Delhi...   \n",
       "630004  Peripheral Rd, Shankar Vihar, New Delhi, Delhi...   \n",
       "630017  Peripheral Rd, Shankar Vihar, New Delhi, Delhi...   \n",
       "630019  Peripheral Rd, Shankar Vihar, New Delhi, Delhi...   \n",
       "630040  Peripheral Rd, Shankar Vihar, New Delhi, Delhi...   \n",
       "630041  Peripheral Rd, Shankar Vihar, New Delhi, Delhi...   \n",
       "630061  Peripheral Rd, Shankar Vihar, New Delhi, Delhi...   \n",
       "630066  Peripheral Rd, Shankar Vihar, New Delhi, Delhi...   \n",
       "630089  Peripheral Rd, Shankar Vihar, New Delhi, Delhi...   \n",
       "630098  Peripheral Rd, Shankar Vihar, New Delhi, Delhi...   \n",
       "630123  Peripheral Rd, Shankar Vihar, New Delhi, Delhi...   \n",
       "630222  Latif Rd, Parade Ground, Delhi Cantonment, New...   \n",
       "630224  Latif Rd, Parade Ground, Delhi Cantonment, New...   \n",
       "630231  Latif Rd, Parade Ground, Delhi Cantonment, New...   \n",
       "630232  Latif Rd, Parade Ground, Delhi Cantonment, New...   \n",
       "630234  Latif Rd, Parade Ground, Delhi Cantonment, New...   \n",
       "630248  Latif Rd, Parade Ground, Delhi Cantonment, New...   \n",
       "630249  Latif Rd, Parade Ground, Delhi Cantonment, New...   \n",
       "630265  Latif Rd, Parade Ground, Delhi Cantonment, New...   \n",
       "630266  Latif Rd, Parade Ground, Delhi Cantonment, New...   \n",
       "630269  Latif Rd, Parade Ground, Delhi Cantonment, New...   \n",
       "630270  Latif Rd, Parade Ground, Delhi Cantonment, New...   \n",
       "630271  Latif Rd, Parade Ground, Delhi Cantonment, New...   \n",
       "630292  Latif Rd, Parade Ground, Delhi Cantonment, New...   \n",
       "630294  Latif Rd, Parade Ground, Delhi Cantonment, New...   \n",
       "630297  Latif Rd, Parade Ground, Delhi Cantonment, New...   \n",
       "630324  Latif Rd, Parade Ground, Delhi Cantonment, New...   \n",
       "630326  Latif Rd, Parade Ground, Delhi Cantonment, New...   \n",
       "630364  Latif Rd, Parade Ground, Delhi Cantonment, New...   \n",
       "630403  Latif Rd, Parade Ground, Delhi Cantonment, New...   \n",
       "\n",
       "                                                stLoc  \\\n",
       "102072         {'lat': 28.5604293, 'lng': 77.0322908}   \n",
       "105385         {'lat': 28.5523951, 'lng': 77.0489463}   \n",
       "105409         {'lat': 28.5523951, 'lng': 77.0489463}   \n",
       "105410         {'lat': 28.5523951, 'lng': 77.0489463}   \n",
       "105457         {'lat': 28.5523951, 'lng': 77.0489463}   \n",
       "105458         {'lat': 28.5523951, 'lng': 77.0489463}   \n",
       "105476         {'lat': 28.5523951, 'lng': 77.0489463}   \n",
       "105501         {'lat': 28.5523951, 'lng': 77.0489463}   \n",
       "105622         {'lat': 28.5687848, 'lng': 77.0504399}   \n",
       "106313         {'lat': 28.6221379, 'lng': 77.0494678}   \n",
       "109619  {'lat': 28.5783557, 'lng': 77.06670799999999}   \n",
       "109642  {'lat': 28.5783557, 'lng': 77.06670799999999}   \n",
       "109643  {'lat': 28.5783557, 'lng': 77.06670799999999}   \n",
       "109666  {'lat': 28.5783557, 'lng': 77.06670799999999}   \n",
       "109667  {'lat': 28.5783557, 'lng': 77.06670799999999}   \n",
       "109823         {'lat': 28.5958183, 'lng': 77.0667617}   \n",
       "109824         {'lat': 28.5958183, 'lng': 77.0667617}   \n",
       "109841         {'lat': 28.5958183, 'lng': 77.0667617}   \n",
       "109845         {'lat': 28.5958183, 'lng': 77.0667617}   \n",
       "109869         {'lat': 28.5958183, 'lng': 77.0667617}   \n",
       "109870         {'lat': 28.5958183, 'lng': 77.0667617}   \n",
       "109896         {'lat': 28.5958183, 'lng': 77.0667617}   \n",
       "109897         {'lat': 28.5958183, 'lng': 77.0667617}   \n",
       "109898         {'lat': 28.5958183, 'lng': 77.0667617}   \n",
       "109899         {'lat': 28.5958183, 'lng': 77.0667617}   \n",
       "110101         {'lat': 28.6134353, 'lng': 77.0666952}   \n",
       "110311         {'lat': 28.6310509, 'lng': 77.0667079}   \n",
       "110338         {'lat': 28.6310509, 'lng': 77.0667079}   \n",
       "110339         {'lat': 28.6310509, 'lng': 77.0667079}   \n",
       "110368         {'lat': 28.6310509, 'lng': 77.0667079}   \n",
       "...                                               ...   \n",
       "629993         {'lat': 28.5618426, 'lng': 77.1359628}   \n",
       "630004         {'lat': 28.5618426, 'lng': 77.1359628}   \n",
       "630017         {'lat': 28.5618426, 'lng': 77.1359628}   \n",
       "630019         {'lat': 28.5618426, 'lng': 77.1359628}   \n",
       "630040         {'lat': 28.5618426, 'lng': 77.1359628}   \n",
       "630041         {'lat': 28.5618426, 'lng': 77.1359628}   \n",
       "630061         {'lat': 28.5618426, 'lng': 77.1359628}   \n",
       "630066         {'lat': 28.5618426, 'lng': 77.1359628}   \n",
       "630089         {'lat': 28.5618426, 'lng': 77.1359628}   \n",
       "630098         {'lat': 28.5618426, 'lng': 77.1359628}   \n",
       "630123         {'lat': 28.5618426, 'lng': 77.1359628}   \n",
       "630222         {'lat': 28.5782218, 'lng': 77.1357347}   \n",
       "630224         {'lat': 28.5782218, 'lng': 77.1357347}   \n",
       "630231         {'lat': 28.5782218, 'lng': 77.1357347}   \n",
       "630232         {'lat': 28.5782218, 'lng': 77.1357347}   \n",
       "630234         {'lat': 28.5782218, 'lng': 77.1357347}   \n",
       "630248         {'lat': 28.5782218, 'lng': 77.1357347}   \n",
       "630249         {'lat': 28.5782218, 'lng': 77.1357347}   \n",
       "630265         {'lat': 28.5782218, 'lng': 77.1357347}   \n",
       "630266         {'lat': 28.5782218, 'lng': 77.1357347}   \n",
       "630269         {'lat': 28.5782218, 'lng': 77.1357347}   \n",
       "630270         {'lat': 28.5782218, 'lng': 77.1357347}   \n",
       "630271         {'lat': 28.5782218, 'lng': 77.1357347}   \n",
       "630292         {'lat': 28.5782218, 'lng': 77.1357347}   \n",
       "630294         {'lat': 28.5782218, 'lng': 77.1357347}   \n",
       "630297         {'lat': 28.5782218, 'lng': 77.1357347}   \n",
       "630324         {'lat': 28.5782218, 'lng': 77.1357347}   \n",
       "630326         {'lat': 28.5782218, 'lng': 77.1357347}   \n",
       "630364         {'lat': 28.5782218, 'lng': 77.1357347}   \n",
       "630403         {'lat': 28.5782218, 'lng': 77.1357347}   \n",
       "\n",
       "                                                    steps  tEn  tFr  \\\n",
       "102072  [{'dist': 6550, 'dur': 640, 'stLoc': {'lat': 2...  427  317   \n",
       "105385  [{'dist': 260, 'dur': 37, 'stLoc': {'lat': 28....  372  344   \n",
       "105409  [{'dist': 260, 'dur': 37, 'stLoc': {'lat': 28....  398  344   \n",
       "105410  [{'dist': 260, 'dur': 37, 'stLoc': {'lat': 28....  427  344   \n",
       "105457  [{'dist': 260, 'dur': 37, 'stLoc': {'lat': 28....  452  344   \n",
       "105458  [{'dist': 260, 'dur': 37, 'stLoc': {'lat': 28....  481  344   \n",
       "105476  [{'dist': 260, 'dur': 37, 'stLoc': {'lat': 28....  424  344   \n",
       "105501  [{'dist': 260, 'dur': 37, 'stLoc': {'lat': 28....  450  344   \n",
       "105622  [{'dist': 222, 'dur': 19, 'stLoc': {'lat': 28....  427  345   \n",
       "106313  [{'dist': 9, 'dur': 3, 'stLoc': {'lat': 28.622...  513  348   \n",
       "109619  [{'dist': 616, 'dur': 91, 'stLoc': {'lat': 28....  513  374   \n",
       "109642  [{'dist': 616, 'dur': 91, 'stLoc': {'lat': 28....  541  374   \n",
       "109643  [{'dist': 616, 'dur': 91, 'stLoc': {'lat': 28....  542  374   \n",
       "109666  [{'dist': 616, 'dur': 91, 'stLoc': {'lat': 28....  569  374   \n",
       "109667  [{'dist': 616, 'dur': 91, 'stLoc': {'lat': 28....  570  374   \n",
       "109823  [{'dist': 68, 'dur': 8, 'stLoc': {'lat': 28.59...  485  375   \n",
       "109824  [{'dist': 68, 'dur': 8, 'stLoc': {'lat': 28.59...  486  375   \n",
       "109841  [{'dist': 68, 'dur': 8, 'stLoc': {'lat': 28.59...  427  375   \n",
       "109845  [{'dist': 68, 'dur': 8, 'stLoc': {'lat': 28.59...  513  375   \n",
       "109869  [{'dist': 68, 'dur': 8, 'stLoc': {'lat': 28.59...  541  375   \n",
       "109870  [{'dist': 68, 'dur': 8, 'stLoc': {'lat': 28.59...  542  375   \n",
       "109896  [{'dist': 68, 'dur': 8, 'stLoc': {'lat': 28.59...  567  375   \n",
       "109897  [{'dist': 68, 'dur': 8, 'stLoc': {'lat': 28.59...  568  375   \n",
       "109898  [{'dist': 68, 'dur': 8, 'stLoc': {'lat': 28.59...  569  375   \n",
       "109899  [{'dist': 68, 'dur': 8, 'stLoc': {'lat': 28.59...  570  375   \n",
       "110101  [{'dist': 69, 'dur': 17, 'stLoc': {'lat': 28.6...  427  376   \n",
       "110311  [{'dist': 85, 'dur': 24, 'stLoc': {'lat': 28.6...  486  377   \n",
       "110338  [{'dist': 85, 'dur': 24, 'stLoc': {'lat': 28.6...  485  377   \n",
       "110339  [{'dist': 85, 'dur': 24, 'stLoc': {'lat': 28.6...  513  377   \n",
       "110368  [{'dist': 85, 'dur': 24, 'stLoc': {'lat': 28.6...  427  377   \n",
       "...                                                   ...  ...  ...   \n",
       "629993                                                 []  430  485   \n",
       "630004                                                 []  402  485   \n",
       "630017                                                 []  403  485   \n",
       "630019                                                 []  375  485   \n",
       "630040                                                 []  347  485   \n",
       "630041                                                 []  346  485   \n",
       "630061                                                 []  461  485   \n",
       "630066                                                 []  320  485   \n",
       "630089                                                 []  462  485   \n",
       "630098                                                 []  292  485   \n",
       "630123                                                 []  491  485   \n",
       "630222                                                 []  459  486   \n",
       "630224                                                 []  430  486   \n",
       "630231                                                 []  543  486   \n",
       "630232                                                 []  432  486   \n",
       "630234                                                 []  402  486   \n",
       "630248                                                 []  375  486   \n",
       "630249                                                 []  374  486   \n",
       "630265                                                 []  405  486   \n",
       "630266                                                 []  461  486   \n",
       "630269                                                 []  347  486   \n",
       "630270                                                 []  346  486   \n",
       "630271                                                 []  345  486   \n",
       "630292                                                 []  462  486   \n",
       "630294                                                 []  490  486   \n",
       "630297                                                 []  320  486   \n",
       "630324                                                 []  463  486   \n",
       "630326                                                 []  491  486   \n",
       "630364                                                 []  492  486   \n",
       "630403                                                 []  520  486   \n",
       "\n",
       "         timestamp  excessRatio  \n",
       "102072  1491192000   207.883462  \n",
       "105385  1491192000   220.264317  \n",
       "105409  1491192000   209.620991  \n",
       "105410  1491192000   212.301587  \n",
       "105457  1491192000   203.653738  \n",
       "105458  1491192000   201.559252  \n",
       "105476  1491192000   200.804290  \n",
       "105501  1491192000   201.023891  \n",
       "105622  1491192000   201.648805  \n",
       "106313  1491192000   208.888048  \n",
       "109619  1491192000   205.619930  \n",
       "109642  1491192000   201.207983  \n",
       "109643  1491192000   205.113952  \n",
       "109666  1491192000   200.721848  \n",
       "109667  1491192000   201.345291  \n",
       "109823  1491192000   210.147601  \n",
       "109824  1491192000   205.248619  \n",
       "109841  1491192000   247.562893  \n",
       "109845  1491192000   215.225161  \n",
       "109869  1491192000   210.462904  \n",
       "109870  1491192000   213.790761  \n",
       "109896  1491192000   200.872939  \n",
       "109897  1491192000   206.579694  \n",
       "109898  1491192000   207.424329  \n",
       "109899  1491192000   208.571429  \n",
       "110101  1491192000   209.106239  \n",
       "110311  1491192000   206.369732  \n",
       "110338  1491192000   205.417066  \n",
       "110339  1491192000   220.324865  \n",
       "110368  1491192000   219.217238  \n",
       "...            ...          ...  \n",
       "629993  1492528500   203.246753  \n",
       "630004  1492528500   216.413594  \n",
       "630017  1492528500   210.476788  \n",
       "630019  1492528500   223.748212  \n",
       "630040  1492528500   216.759777  \n",
       "630041  1492528500   211.355736  \n",
       "630061  1492528500   206.318083  \n",
       "630066  1492528500   206.776181  \n",
       "630089  1492528500   208.478146  \n",
       "630098  1492528500   200.679406  \n",
       "630123  1492528500   207.165605  \n",
       "630222  1492528500   209.310345  \n",
       "630224  1492528500   201.669759  \n",
       "630231  1492528500   204.229607  \n",
       "630232  1492528500   205.670732  \n",
       "630234  1492528500   214.109233  \n",
       "630248  1492528500   220.540889  \n",
       "630249  1492528500   209.194098  \n",
       "630265  1492528500   200.319343  \n",
       "630266  1492528500   219.800125  \n",
       "630269  1492528500   213.646659  \n",
       "630270  1492528500   208.133971  \n",
       "630271  1492528500   205.885417  \n",
       "630292  1492528500   221.754808  \n",
       "630294  1492528500   210.691458  \n",
       "630297  1492528500   204.707561  \n",
       "630324  1492528500   203.813347  \n",
       "630326  1492528500   220.315343  \n",
       "630364  1492528500   201.212121  \n",
       "630403  1492528500   206.481481  \n",
       "\n",
       "[14963 rows x 14 columns]"
      ]
     },
     "execution_count": 76,
     "metadata": {},
     "output_type": "execute_result"
    }
   ],
   "source": [
    "df[df[\"excessRatio\"]>200]"
   ]
  },
  {
   "cell_type": "markdown",
   "metadata": {},
   "source": [
    "## Studying Routes"
   ]
  },
  {
   "cell_type": "code",
   "execution_count": 26,
   "metadata": {
    "collapsed": false
   },
   "outputs": [],
   "source": [
    "df[\"route\"] = df[\"tFr\"].map(str)  + \"_\"+ df[\"tEn\"].map(str)"
   ]
  },
  {
   "cell_type": "markdown",
   "metadata": {},
   "source": [
    "### 25% of routes face 50% excesstime"
   ]
  },
  {
   "cell_type": "code",
   "execution_count": 27,
   "metadata": {
    "collapsed": false
   },
   "outputs": [
    {
     "data": {
      "text/plain": [
       "0.50    127.969637\n",
       "0.75    151.065610\n",
       "0.90    169.758136\n",
       "0.95    181.348290\n",
       "Name: excessRatio, dtype: float64"
      ]
     },
     "execution_count": 27,
     "metadata": {},
     "output_type": "execute_result"
    }
   ],
   "source": [
    "df[\"excessRatio\"].quantile([0.5,.75,.9,.95])"
   ]
  },
  {
   "cell_type": "markdown",
   "metadata": {},
   "source": [
    "### 25% of routes face 73% excesstime during peak hour - 5:30pm"
   ]
  },
  {
   "cell_type": "code",
   "execution_count": 28,
   "metadata": {
    "collapsed": false
   },
   "outputs": [
    {
     "data": {
      "text/plain": [
       "0.50    151.010661\n",
       "0.75    174.597094\n",
       "0.90    195.678765\n",
       "0.95    208.724049\n",
       "Name: excessRatio, dtype: float64"
      ]
     },
     "execution_count": 28,
     "metadata": {},
     "output_type": "execute_result"
    }
   ],
   "source": [
    "df[(df[\"week_time\"]==\"0_17_30\")][\"excessRatio\"].quantile([0.5,.75,.9,.95])"
   ]
  },
  {
   "cell_type": "markdown",
   "metadata": {},
   "source": [
    "### 25% of routes face 78% extra commute time to travel more than 10kms during peak hour - 5:30pm"
   ]
  },
  {
   "cell_type": "code",
   "execution_count": 30,
   "metadata": {
    "collapsed": false
   },
   "outputs": [
    {
     "data": {
      "text/plain": [
       "0.50    160.922235\n",
       "0.75    183.938118\n",
       "0.90    204.634041\n",
       "0.95    218.690614\n",
       "Name: excessRatio, dtype: float64"
      ]
     },
     "execution_count": 30,
     "metadata": {},
     "output_type": "execute_result"
    }
   ],
   "source": [
    "df[(df[\"week_time\"]==\"0_17_30\") & (df[\"dist\"]>20000)][\"excessRatio\"].quantile([0.5,.75,.9,.95])"
   ]
  },
  {
   "cell_type": "markdown",
   "metadata": {},
   "source": [
    "### All areas taking 100% excess time to commute a distance of less than equal to 6kms on multiple routes"
   ]
  },
  {
   "cell_type": "code",
   "execution_count": 55,
   "metadata": {
    "collapsed": false
   },
   "outputs": [
    {
     "data": {
      "text/plain": [
       "tFr\n",
       "566    151.527341\n",
       "710    149.978179\n",
       "568    149.290430\n",
       "515    149.023916\n",
       "567    146.235393\n",
       "707    145.079853\n",
       "486    143.887480\n",
       "544    143.306262\n",
       "543    142.749236\n",
       "545    142.160271\n",
       "570    141.720712\n",
       "403    141.443351\n",
       "622    140.867942\n",
       "569    139.880598\n",
       "597    139.719610\n",
       "687    139.588223\n",
       "596    139.554885\n",
       "542    139.103851\n",
       "595    139.101029\n",
       "571    138.888283\n",
       "656    138.882546\n",
       "624    138.679731\n",
       "541    138.559167\n",
       "734    138.424073\n",
       "457    138.251868\n",
       "735    138.226037\n",
       "539    138.197757\n",
       "709    138.175033\n",
       "538    137.856354\n",
       "766    137.235387\n",
       "          ...    \n",
       "273    100.368561\n",
       "583    100.357855\n",
       "246    100.315726\n",
       "68     100.315457\n",
       "242    100.315027\n",
       "61     100.254145\n",
       "277    100.238436\n",
       "555    100.209490\n",
       "391    100.187416\n",
       "62     100.170714\n",
       "146    100.156250\n",
       "97     100.143678\n",
       "582    100.141677\n",
       "244    100.107673\n",
       "613    100.106157\n",
       "274    100.096769\n",
       "118    100.085023\n",
       "245    100.070749\n",
       "63     100.052329\n",
       "333    100.045662\n",
       "497    100.044803\n",
       "474    100.044590\n",
       "648    100.000000\n",
       "529    100.000000\n",
       "611    100.000000\n",
       "612    100.000000\n",
       "215    100.000000\n",
       "614    100.000000\n",
       "640    100.000000\n",
       "36     100.000000\n",
       "Name: excessRatio, dtype: float64"
      ]
     },
     "execution_count": 55,
     "metadata": {},
     "output_type": "execute_result"
    }
   ],
   "source": [
    "areas_commute_more_short_dist = df[(df[\"dspaist\"]<6000)].groupby([\"tFr\"])[\"excessRatio\"].mean()\n",
    "areas_commute_more_short_dist.sort_values(ascending=False)"
   ]
  },
  {
   "cell_type": "markdown",
   "metadata": {
    "collapsed": true
   },
   "source": [
    "## Finding correlation"
   ]
  },
  {
   "cell_type": "code",
   "execution_count": 66,
   "metadata": {
    "collapsed": true
   },
   "outputs": [],
   "source": [
    "df_new = df[df[\"excessRatio\"]>150][[\"dist\",\"excessRatio\",\"timestamp\"]]"
   ]
  },
  {
   "cell_type": "code",
   "execution_count": 67,
   "metadata": {
    "collapsed": false
   },
   "outputs": [
    {
     "data": {
      "text/plain": [
       "(186000, 3)"
      ]
     },
     "execution_count": 67,
     "metadata": {},
     "output_type": "execute_result"
    }
   ],
   "source": [
    "df_new.shape"
   ]
  },
  {
   "cell_type": "code",
   "execution_count": 68,
   "metadata": {
    "collapsed": false
   },
   "outputs": [],
   "source": [
    "df_new[\"distCat\"] = pd.cut(df_new[\"dist\"], [0,8000,16000,24000,32000,50000])"
   ]
  },
  {
   "cell_type": "code",
   "execution_count": 69,
   "metadata": {
    "collapsed": true
   },
   "outputs": [],
   "source": [
    "def day_time(ts):\n",
    "    date = pd.to_datetime(ts, unit='s')\n",
    "    return (str(date.hour+5).zfill(2) + \"_\"  +str(date.minute+30))"
   ]
  },
  {
   "cell_type": "code",
   "execution_count": 70,
   "metadata": {
    "collapsed": false
   },
   "outputs": [],
   "source": [
    "df_new[\"day_time\"] = df_new[\"timestamp\"].apply(day_time)"
   ]
  },
  {
   "cell_type": "code",
   "execution_count": 71,
   "metadata": {
    "collapsed": false
   },
   "outputs": [
    {
     "data": {
      "text/plain": [
       "Index(['dist', 'excessRatio', 'timestamp', 'distCat', 'day_time'], dtype='object')"
      ]
     },
     "execution_count": 71,
     "metadata": {},
     "output_type": "execute_result"
    }
   ],
   "source": [
    "df_new.columns"
   ]
  },
  {
   "cell_type": "code",
   "execution_count": 72,
   "metadata": {
    "collapsed": false
   },
   "outputs": [],
   "source": [
    "df_new = df_new.join(pd.get_dummies(df_new[\"day_time\"]))"
   ]
  },
  {
   "cell_type": "code",
   "execution_count": 73,
   "metadata": {
    "collapsed": false
   },
   "outputs": [],
   "source": [
    "df_new = df_new.join(pd.get_dummies(df_new[\"distCat\"]))"
   ]
  },
  {
   "cell_type": "code",
   "execution_count": 74,
   "metadata": {
    "collapsed": false
   },
   "outputs": [
    {
     "data": {
      "text/plain": [
       "Index(['dist', 'excessRatio', 'timestamp', 'distCat', 'day_time', '06_30',\n",
       "       '09_30', '13_30', '17_30', '20_45', '(0, 8000]', '(8000, 16000]',\n",
       "       '(16000, 24000]', '(24000, 32000]', '(32000, 50000]'],\n",
       "      dtype='object')"
      ]
     },
     "execution_count": 74,
     "metadata": {},
     "output_type": "execute_result"
    }
   ],
   "source": [
    "df_new.columns"
   ]
  },
  {
   "cell_type": "code",
   "execution_count": 75,
   "metadata": {
    "collapsed": false
   },
   "outputs": [
    {
     "data": {
      "image/png": "[encoded data removed]",
      "text/plain": [
       "<matplotlib.figure.Figure at 0x20db2db00>"
      ]
     },
     "metadata": {},
     "output_type": "display_data"
    }
   ],
   "source": [
    "import seaborn as sns\n",
    "sns.heatmap(df_new.drop(['day_time', 'timestamp',\"distCat\"], axis=1).corr())\n",
    "plt.show()"
   ]
  },
  {
   "cell_type": "code",
   "execution_count": null,
   "metadata": {
    "collapsed": true
   },
   "outputs": [],
   "source": []
  }
 ],
 "metadata": {
  "kernelspec": {
   "display_name": "Python 3",
   "language": "python",
   "name": "python3"
  },
  "language_info": {
   "codemirror_mode": {
    "name": "ipython",
    "version": 3
   },
   "file_extension": ".py",
   "mimetype": "text/x-python",
   "name": "python",
   "nbconvert_exporter": "python",
   "pygments_lexer": "ipython3",
   "version": "3.6.0"
  }
 },
 "nbformat": 4,
 "nbformat_minor": 2
}
